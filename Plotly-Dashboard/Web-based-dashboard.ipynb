{
 "cells": [
  {
   "cell_type": "code",
   "execution_count": 2,
   "id": "b8488071",
   "metadata": {},
   "outputs": [],
   "source": [
    "from dash import Dash, dcc, html, Input, Output, callback\n",
    "\n",
    "import plotly.express as px\n",
    "import pandas as pd"
   ]
  },
  {
   "cell_type": "code",
   "execution_count": 3,
   "id": "362b4865",
   "metadata": {},
   "outputs": [],
   "source": [
    "dataframe = px.data.gapminder()"
   ]
  },
  {
   "cell_type": "code",
   "execution_count": 4,
   "id": "a9982b59",
   "metadata": {},
   "outputs": [
    {
     "data": {
      "text/html": [
       "\n",
       "        <iframe\n",
       "            width=\"100%\"\n",
       "            height=\"650\"\n",
       "            src=\"http://127.0.0.1:8050/\"\n",
       "            frameborder=\"0\"\n",
       "            allowfullscreen\n",
       "            \n",
       "        ></iframe>\n",
       "        "
      ],
      "text/plain": [
       "<IPython.lib.display.IFrame at 0x19a23142248>"
      ]
     },
     "metadata": {},
     "output_type": "display_data"
    }
   ],
   "source": [
    "app = Dash(__name__)\n",
    "app.layout = html.Div( style={\n",
    "        'display': 'flex',\n",
    "        'flexDirection': 'column',\n",
    "        'height': '100vh',\n",
    "        'padding': '20px',\n",
    "        'boxSizing': 'border-box'\n",
    "    }\n",
    "    , children = [\n",
    "        html.Div( style={\n",
    "                'display': 'flex',\n",
    "                'justifyContent': 'space-between',\n",
    "                'marginBottom': '20px'\n",
    "            } , children = [\n",
    "        html.Div(dcc.Slider(min = dataframe['year'].min(), max = dataframe['year'].max(),\n",
    "                        marks={str(year): year for year in dataframe['year'].unique()}, value = dataframe['year'].min(),\n",
    "                                id = 'year-slider' ), style={'flex': '4', 'marginRight': '20px'}) ,\n",
    "       html.Div(dcc.Dropdown(dataframe['continent'].unique() , value = dataframe['continent'].unique()[0] , \n",
    "                         id = 'continent-dropdown') , style={'flex': '1'}) \n",
    "    ]),\n",
    "    \n",
    "    html.Div(style={\n",
    "            'display': 'flex',\n",
    "            'justifyContent': 'space-between',\n",
    "            'marginBottom': '20px',\n",
    "            'flex': '1'\n",
    "        } , children = [\n",
    "            html.Div(dcc.Graph(id='plot1') , style={'flex': '1'}),\n",
    "            html.Div(dcc.Graph(id='plot2') , style={'flex': '1'})\n",
    "        ]),\n",
    "\n",
    "    html.Div(dcc.Graph(id='plot3') , style={'flex': '1'})\n",
    "])\n",
    "\n",
    "@callback(\n",
    "    Output(component_id = 'plot1' , component_property = 'figure'),\n",
    "    Output(component_id = 'plot2' , component_property = 'figure'),\n",
    "    Output(component_id = 'plot3' , component_property = 'figure'),\n",
    "    Input('year-slider' , 'value'),\n",
    "    Input('continent-dropdown' , 'value'),\n",
    ")\n",
    "\n",
    "def update_graph(year , continent):\n",
    "    df = dataframe[ (dataframe['year'] == year) & (dataframe['continent'] == continent)]\n",
    "    fig1 = px.bar(df , x = 'country' , y = 'lifeExp')\n",
    "    fig2 = px.bar(df , x = 'country' , y = 'gdpPercap')\n",
    "    fig3 = px.bar(df , x = 'country' , y = 'pop')\n",
    "    \n",
    "    return fig1 , fig2 , fig3\n",
    "\n",
    "# run app on http://127.0.0.1:8050\n",
    "if __name__ == '__main__':\n",
    "    app.run()"
   ]
  }
 ],
 "metadata": {
  "kernelspec": {
   "display_name": "Python 3 (ipykernel)",
   "language": "python",
   "name": "python3"
  },
  "language_info": {
   "codemirror_mode": {
    "name": "ipython",
    "version": 3
   },
   "file_extension": ".py",
   "mimetype": "text/x-python",
   "name": "python",
   "nbconvert_exporter": "python",
   "pygments_lexer": "ipython3",
   "version": "3.7.13"
  }
 },
 "nbformat": 4,
 "nbformat_minor": 5
}
