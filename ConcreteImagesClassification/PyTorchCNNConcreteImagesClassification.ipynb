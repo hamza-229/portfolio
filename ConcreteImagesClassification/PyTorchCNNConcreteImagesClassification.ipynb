{
 "cells": [
  {
   "cell_type": "code",
   "execution_count": 1,
   "id": "3237a977",
   "metadata": {},
   "outputs": [],
   "source": [
    "import torch\n",
    "import torchvision\n",
    "import torchvision.transforms as transforms\n",
    "from torch.utils.data import DataLoader\n",
    "import torch.nn as nn\n",
    "import os\n",
    "import matplotlib.pyplot as plt\n",
    "import numpy as np\n",
    "from sklearn.metrics import accuracy_score"
   ]
  },
  {
   "cell_type": "code",
   "execution_count": 2,
   "id": "58ce8f2a",
   "metadata": {},
   "outputs": [],
   "source": [
    "transform = transforms.Compose([\n",
    "    transforms.Resize(32),\n",
    "    transforms.Grayscale(num_output_channels = 1),\n",
    "    transforms.ToTensor(),\n",
    "])\n",
    "\n",
    "Batch_size = 4\n",
    "\n",
    "train_data = torchvision.datasets.ImageFolder(root='Concrete_data/train', transform = transform)\n",
    "test_data = torchvision.datasets.ImageFolder(root='Concrete_data/test', transform = transform)\n",
    "train_loader = DataLoader(train_data, batch_size=Batch_size,shuffle=True)\n",
    "test_loader = DataLoader(test_data, batch_size=Batch_size,shuffle=True)\n"
   ]
  },
  {
   "cell_type": "code",
   "execution_count": 3,
   "id": "d8363145",
   "metadata": {},
   "outputs": [
    {
     "data": {
      "image/png": "[encoded data removed]",
      "text/plain": [
       "<Figure size 720x720 with 4 Axes>"
      ]
     },
     "metadata": {
      "needs_background": "light"
     },
     "output_type": "display_data"
    }
   ],
   "source": [
    "class_names = train_loader.dataset.classes  \n",
    "\n",
    "data_iter = iter(train_loader)\n",
    "images, labels = next(data_iter)\n",
    "\n",
    "plt.figure(figsize=(10, 10))\n",
    "for i in range(len(images)):   \n",
    "    plt.subplot(3, 3, i + 1)\n",
    "    plt.imshow(images[i].permute(1, 2, 0))  # (C,H,W) -> (H,W,C)\n",
    "    plt.title(class_names[labels[i].item()])  \n",
    "    plt.axis('off')\n",
    "plt.show()\n"
   ]
  },
  {
   "cell_type": "code",
   "execution_count": 4,
   "id": "20d4c696",
   "metadata": {},
   "outputs": [],
   "source": [
    "class ImageClassificationNet(nn.Module):\n",
    "    def __init__(self):\n",
    "        super(ImageClassificationNet, self).__init__()\n",
    "        self.c1 = nn.Conv2d(1,6,3) \n",
    "        self.p = nn.MaxPool2d(2,2)\n",
    "        self.c2 = nn.Conv2d(6,16,3)        \n",
    "        self.fc1 = nn.Linear(16*6*6,128)\n",
    "        self.fc2 = nn.Linear(128,64)\n",
    "        self.fc3 = nn.Linear(64,2)\n",
    "        self.relu = nn.ReLU()\n",
    "        \n",
    "    def forward(self, x): # input 1,32,32\n",
    "        \n",
    "        x = self.c1(x)         # out 6,30,30\n",
    "        x = nn.functional.relu(x)\n",
    "        x = self.p(x)             # out 6,15,15\n",
    "        x = self.c2(x)         # out 16,13,13\n",
    "        x = nn.functional.relu(x)\n",
    "        x = self.p(x)             # out 16,6,6\n",
    "        x = torch.flatten(x,1)    # out 16*6*6\n",
    "        x = self.fc1(x)           # out 128\n",
    "        x = self.relu(x)\n",
    "        x = self.fc2(x)           # out 64\n",
    "        x = self.relu(x)\n",
    "        x = self.fc3(x)           # out 2\n",
    "        \n",
    "        return x"
   ]
  },
  {
   "cell_type": "code",
   "execution_count": 5,
   "id": "5ef8420b",
   "metadata": {},
   "outputs": [],
   "source": [
    "model = ImageClassificationNet()"
   ]
  },
  {
   "cell_type": "code",
   "execution_count": 6,
   "id": "cb50ef5e",
   "metadata": {},
   "outputs": [],
   "source": [
    "criterion = nn.CrossEntropyLoss()"
   ]
  },
  {
   "cell_type": "code",
   "execution_count": 7,
   "id": "5c6f60db",
   "metadata": {},
   "outputs": [],
   "source": [
    "optimizer = torch.optim.Adam(model.parameters(), lr=0.001)"
   ]
  },
  {
   "cell_type": "code",
   "execution_count": 8,
   "id": "e495e592",
   "metadata": {
    "scrolled": true
   },
   "outputs": [
    {
     "name": "stdout",
     "output_type": "stream",
     "text": [
      "Epoch [1/3], Loss: 0.0805\n",
      "Epoch [2/3], Loss: 0.0360\n",
      "Epoch [3/3], Loss: 0.0293\n"
     ]
    }
   ],
   "source": [
    "epochs = 3\n",
    "for epoch in range(epochs):\n",
    "    model.train()\n",
    "    running_loss = 0.0\n",
    "    for images, labels in train_loader:\n",
    "\n",
    "        optimizer.zero_grad()\n",
    "        outputs = model(images)\n",
    "        loss = criterion(outputs, labels)\n",
    "        loss.backward()\n",
    "        optimizer.step()\n",
    "\n",
    "        running_loss += loss.item()\n",
    "\n",
    "    print(f\"Epoch [{epoch+1}/{epochs}], Loss: {running_loss/len(train_loader):.4f}\")\n"
   ]
  },
  {
   "cell_type": "code",
   "execution_count": 13,
   "id": "3bdee599",
   "metadata": {},
   "outputs": [],
   "source": [
    "pred = []\n",
    "true = []\n",
    "\n",
    "with torch.no_grad():\n",
    "    for images, labels in test_loader:\n",
    "        outputs = model(images)\n",
    "        _, predicted = torch.max(outputs, 1)\n",
    "        pred.extend(predicted)\n",
    "        true.extend(labels)"
   ]
  },
  {
   "cell_type": "code",
   "execution_count": 15,
   "id": "53e12c94",
   "metadata": {},
   "outputs": [
    {
     "name": "stdout",
     "output_type": "stream",
     "text": [
      "Test Accuracy: 99.20%\n"
     ]
    }
   ],
   "source": [
    "acc = accuracy_score(pred,true)\n",
    "print(f\"Test Accuracy: {100 * acc:.2f}%\")"
   ]
  }
 ],
 "metadata": {
  "kernelspec": {
   "display_name": "Python 3 (ipykernel)",
   "language": "python",
   "name": "python3"
  },
  "language_info": {
   "codemirror_mode": {
    "name": "ipython",
    "version": 3
   },
   "file_extension": ".py",
   "mimetype": "text/x-python",
   "name": "python",
   "nbconvert_exporter": "python",
   "pygments_lexer": "ipython3",
   "version": "3.7.13"
  }
 },
 "nbformat": 4,
 "nbformat_minor": 5
}
