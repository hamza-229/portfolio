{
 "cells": [
  {
   "cell_type": "markdown",
   "id": "dec7d225",
   "metadata": {},
   "source": [
    "### Business objective\n",
    "Developing a customer churn prediction model that enables a telecommunication company to proactively identify at-risk customers and enhance retention strategies ."
   ]
  },
  {
   "cell_type": "markdown",
   "id": "577aec5a",
   "metadata": {},
   "source": [
    "### Data explaination\n",
    "\n",
    "**Demographics**\n",
    "\n",
    "CustomerID: A unique ID that identifies each customer.\n",
    "\n",
    "Count: A value used in reporting/dashboarding to sum up the number of customers in a filtered set.\n",
    "\n",
    "Gender: The customer’s gender: Male, Female\n",
    "\n",
    "Age: The customer’s current age, in years, at the time the fiscal quarter ended.\n",
    "\n",
    "Senior Citizen: Indicates if the customer is 65 or older: Yes, No\n",
    "\n",
    "Partner: Indicates if the customer has partner: Yes, No\n",
    "\n",
    "Dependents: Indicates if the customer lives with any dependents: Yes, No. Dependents could be children, parents, grandparents, etc.\n",
    " \n",
    "\n",
    "**Location**\n",
    "\n",
    "Country: The country of the customer’s primary residence.\n",
    "\n",
    "State: The state of the customer’s primary residence.\n",
    "\n",
    "City: The city of the customer’s primary residence.\n",
    "\n",
    "Zip Code: The zip code of the customer’s primary residence.\n",
    "\n",
    "Lat Long: The combined latitude and longitude of the customer’s primary residence.\n",
    "\n",
    "Latitude: The latitude of the customer’s primary residence.\n",
    "\n",
    "Longitude: The longitude of the customer’s primary residence.\n",
    "\n",
    "**Services**\n",
    "\n",
    "CustomerID: A unique ID that identifies each customer.\n",
    "\n",
    "Tenure in Months: Indicates the total amount of months that the customer has been with the company by the end of the quarter specified above.\n",
    "\n",
    "Phone Service: Indicates if the customer subscribes to home phone service with the company: Yes, No\n",
    "\n",
    "Multiple Lines: Indicates if the customer subscribes to multiple telephone lines with the company: Yes, No\n",
    "\n",
    "Internet Service: Indicates if the customer subscribes to Internet service with the company: No, DSL, Fiber Optic, Cable.\n",
    "\n",
    "Online Security: Indicates if the customer subscribes to an additional online security service provided by the company: Yes, No\n",
    "\n",
    "Online Backup: Indicates if the customer subscribes to an additional online backup service provided by the company: Yes, No\n",
    "\n",
    "Device Protection Plan: Indicates if the customer subscribes to an additional device protection plan for their Internet equipment provided by the company: Yes, No\n",
    "\n",
    "Tech Support: Indicates if the customer subscribes to an additional technical support plan from the company with reduced wait times: Yes, No\n",
    "\n",
    "Streaming TV: Indicates if the customer uses their Internet service to stream television programing from a third party provider: Yes, No. The company does not charge an additional fee for this service.\n",
    "\n",
    "Streaming Movies: Indicates if the customer uses their Internet service to stream movies from a third party provider: Yes, No. The company does not charge an additional fee for this service.\n",
    "\n",
    "Streaming Music: Indicates if the customer uses their Internet service to stream music from a third party provider: Yes, No. The company does not charge an additional fee for this service.\n",
    "\n",
    "Contract: Indicates the customer’s current contract type: Month-to-Month, One Year, Two Year.\n",
    "\n",
    "Paperless Billing: Indicates if the customer has chosen paperless billing: Yes, No\n",
    "\n",
    "Payment Method: Indicates how the customer pays their bill: Bank Withdrawal, Credit Card, Mailed Check\n",
    "\n",
    "Total Charges: Indicates the customer’s total charges, calculated to the end of the quarter specified above.\n",
    " \n",
    "**Status**\n",
    "\n",
    "Churn Label: Yes = the customer left the company this quarter. No = the customer remained with the company. Directly related to Churn Value.\n",
    "\n",
    "Churn Score: A value from 0-100 that is calculated using the predictive tool IBM SPSS Modeler. The model incorporates multiple factors known to cause churn. The higher the score, the more likely the customer will churn.\n",
    "\n",
    "CLTV: Customer Lifetime Value. A predicted CLTV is calculated using corporate formulas and existing data. The higher the value, the more valuable the customer. High value customers should be monitored for churn.\n",
    "\n",
    "Churn Reason: A customer’s specific reason for leaving the company. Directly related to Churn Category.\n"
   ]
  },
  {
   "cell_type": "code",
   "execution_count": 86,
   "id": "8b4c757c",
   "metadata": {},
   "outputs": [],
   "source": [
    "def warn(*args, **kwargs):\n",
    "    pass\n",
    "import warnings\n",
    "warnings.warn = warn"
   ]
  },
  {
   "cell_type": "code",
   "execution_count": 87,
   "id": "d9fa68f9",
   "metadata": {},
   "outputs": [],
   "source": [
    "import pandas as pd\n",
    "import numpy as np\n",
    "import matplotlib.pyplot as plt\n",
    "import seaborn as sns\n",
    "from sklearn import preprocessing\n",
    "from sklearn.model_selection import train_test_split\n",
    "from sklearn.utils.class_weight import compute_sample_weight\n",
    "from sklearn.linear_model import LogisticRegression\n",
    "from sklearn.tree import DecisionTreeClassifier\n",
    "from sklearn.svm import SVC\n",
    "from sklearn.ensemble import RandomForestClassifier\n",
    "from xgboost import XGBClassifier\n",
    "from sklearn.ensemble import StackingClassifier\n",
    "from sklearn.ensemble import VotingClassifier\n",
    "from sklearn.model_selection import GridSearchCV\n",
    "from sklearn.metrics import accuracy_score, precision_score, recall_score, f1_score , confusion_matrix\n",
    "from sklearn.metrics import roc_auc_score"
   ]
  },
  {
   "cell_type": "markdown",
   "id": "75f64540",
   "metadata": {},
   "source": [
    "### Reading data"
   ]
  },
  {
   "cell_type": "code",
   "execution_count": 88,
   "id": "cbccbf21",
   "metadata": {},
   "outputs": [],
   "source": [
    "df = pd.read_excel('Telco_customer_churn.xlsx')"
   ]
  },
  {
   "cell_type": "code",
   "execution_count": 89,
   "id": "8e9d70ab",
   "metadata": {
    "scrolled": true
   },
   "outputs": [
    {
     "data": {
      "text/html": [
       "<div>\n",
       "<style scoped>\n",
       "    .dataframe tbody tr th:only-of-type {\n",
       "        vertical-align: middle;\n",
       "    }\n",
       "\n",
       "    .dataframe tbody tr th {\n",
       "        vertical-align: top;\n",
       "    }\n",
       "\n",
       "    .dataframe thead th {\n",
       "        text-align: right;\n",
       "    }\n",
       "</style>\n",
       "<table border=\"1\" class=\"dataframe\">\n",
       "  <thead>\n",
       "    <tr style=\"text-align: right;\">\n",
       "      <th></th>\n",
       "      <th>CustomerID</th>\n",
       "      <th>Count</th>\n",
       "      <th>Country</th>\n",
       "      <th>State</th>\n",
       "      <th>City</th>\n",
       "      <th>Zip Code</th>\n",
       "      <th>Lat Long</th>\n",
       "      <th>Latitude</th>\n",
       "      <th>Longitude</th>\n",
       "      <th>Gender</th>\n",
       "      <th>...</th>\n",
       "      <th>Contract</th>\n",
       "      <th>Paperless Billing</th>\n",
       "      <th>Payment Method</th>\n",
       "      <th>Monthly Charges</th>\n",
       "      <th>Total Charges</th>\n",
       "      <th>Churn Label</th>\n",
       "      <th>Churn Value</th>\n",
       "      <th>Churn Score</th>\n",
       "      <th>CLTV</th>\n",
       "      <th>Churn Reason</th>\n",
       "    </tr>\n",
       "  </thead>\n",
       "  <tbody>\n",
       "    <tr>\n",
       "      <th>0</th>\n",
       "      <td>3668-QPYBK</td>\n",
       "      <td>1</td>\n",
       "      <td>United States</td>\n",
       "      <td>California</td>\n",
       "      <td>Los Angeles</td>\n",
       "      <td>90003</td>\n",
       "      <td>33.964131, -118.272783</td>\n",
       "      <td>33.964131</td>\n",
       "      <td>-118.272783</td>\n",
       "      <td>Male</td>\n",
       "      <td>...</td>\n",
       "      <td>Month-to-month</td>\n",
       "      <td>Yes</td>\n",
       "      <td>Mailed check</td>\n",
       "      <td>53.85</td>\n",
       "      <td>108.15</td>\n",
       "      <td>Yes</td>\n",
       "      <td>1</td>\n",
       "      <td>86</td>\n",
       "      <td>3239</td>\n",
       "      <td>Competitor made better offer</td>\n",
       "    </tr>\n",
       "    <tr>\n",
       "      <th>1</th>\n",
       "      <td>9237-HQITU</td>\n",
       "      <td>1</td>\n",
       "      <td>United States</td>\n",
       "      <td>California</td>\n",
       "      <td>Los Angeles</td>\n",
       "      <td>90005</td>\n",
       "      <td>34.059281, -118.30742</td>\n",
       "      <td>34.059281</td>\n",
       "      <td>-118.307420</td>\n",
       "      <td>Female</td>\n",
       "      <td>...</td>\n",
       "      <td>Month-to-month</td>\n",
       "      <td>Yes</td>\n",
       "      <td>Electronic check</td>\n",
       "      <td>70.70</td>\n",
       "      <td>151.65</td>\n",
       "      <td>Yes</td>\n",
       "      <td>1</td>\n",
       "      <td>67</td>\n",
       "      <td>2701</td>\n",
       "      <td>Moved</td>\n",
       "    </tr>\n",
       "    <tr>\n",
       "      <th>2</th>\n",
       "      <td>9305-CDSKC</td>\n",
       "      <td>1</td>\n",
       "      <td>United States</td>\n",
       "      <td>California</td>\n",
       "      <td>Los Angeles</td>\n",
       "      <td>90006</td>\n",
       "      <td>34.048013, -118.293953</td>\n",
       "      <td>34.048013</td>\n",
       "      <td>-118.293953</td>\n",
       "      <td>Female</td>\n",
       "      <td>...</td>\n",
       "      <td>Month-to-month</td>\n",
       "      <td>Yes</td>\n",
       "      <td>Electronic check</td>\n",
       "      <td>99.65</td>\n",
       "      <td>820.5</td>\n",
       "      <td>Yes</td>\n",
       "      <td>1</td>\n",
       "      <td>86</td>\n",
       "      <td>5372</td>\n",
       "      <td>Moved</td>\n",
       "    </tr>\n",
       "    <tr>\n",
       "      <th>3</th>\n",
       "      <td>7892-POOKP</td>\n",
       "      <td>1</td>\n",
       "      <td>United States</td>\n",
       "      <td>California</td>\n",
       "      <td>Los Angeles</td>\n",
       "      <td>90010</td>\n",
       "      <td>34.062125, -118.315709</td>\n",
       "      <td>34.062125</td>\n",
       "      <td>-118.315709</td>\n",
       "      <td>Female</td>\n",
       "      <td>...</td>\n",
       "      <td>Month-to-month</td>\n",
       "      <td>Yes</td>\n",
       "      <td>Electronic check</td>\n",
       "      <td>104.80</td>\n",
       "      <td>3046.05</td>\n",
       "      <td>Yes</td>\n",
       "      <td>1</td>\n",
       "      <td>84</td>\n",
       "      <td>5003</td>\n",
       "      <td>Moved</td>\n",
       "    </tr>\n",
       "    <tr>\n",
       "      <th>4</th>\n",
       "      <td>0280-XJGEX</td>\n",
       "      <td>1</td>\n",
       "      <td>United States</td>\n",
       "      <td>California</td>\n",
       "      <td>Los Angeles</td>\n",
       "      <td>90015</td>\n",
       "      <td>34.039224, -118.266293</td>\n",
       "      <td>34.039224</td>\n",
       "      <td>-118.266293</td>\n",
       "      <td>Male</td>\n",
       "      <td>...</td>\n",
       "      <td>Month-to-month</td>\n",
       "      <td>Yes</td>\n",
       "      <td>Bank transfer (automatic)</td>\n",
       "      <td>103.70</td>\n",
       "      <td>5036.3</td>\n",
       "      <td>Yes</td>\n",
       "      <td>1</td>\n",
       "      <td>89</td>\n",
       "      <td>5340</td>\n",
       "      <td>Competitor had better devices</td>\n",
       "    </tr>\n",
       "  </tbody>\n",
       "</table>\n",
       "<p>5 rows × 33 columns</p>\n",
       "</div>"
      ],
      "text/plain": [
       "   CustomerID  Count        Country       State         City  Zip Code  \\\n",
       "0  3668-QPYBK      1  United States  California  Los Angeles     90003   \n",
       "1  9237-HQITU      1  United States  California  Los Angeles     90005   \n",
       "2  9305-CDSKC      1  United States  California  Los Angeles     90006   \n",
       "3  7892-POOKP      1  United States  California  Los Angeles     90010   \n",
       "4  0280-XJGEX      1  United States  California  Los Angeles     90015   \n",
       "\n",
       "                 Lat Long   Latitude   Longitude  Gender  ...        Contract  \\\n",
       "0  33.964131, -118.272783  33.964131 -118.272783    Male  ...  Month-to-month   \n",
       "1   34.059281, -118.30742  34.059281 -118.307420  Female  ...  Month-to-month   \n",
       "2  34.048013, -118.293953  34.048013 -118.293953  Female  ...  Month-to-month   \n",
       "3  34.062125, -118.315709  34.062125 -118.315709  Female  ...  Month-to-month   \n",
       "4  34.039224, -118.266293  34.039224 -118.266293    Male  ...  Month-to-month   \n",
       "\n",
       "  Paperless Billing             Payment Method  Monthly Charges Total Charges  \\\n",
       "0               Yes               Mailed check            53.85        108.15   \n",
       "1               Yes           Electronic check            70.70        151.65   \n",
       "2               Yes           Electronic check            99.65         820.5   \n",
       "3               Yes           Electronic check           104.80       3046.05   \n",
       "4               Yes  Bank transfer (automatic)           103.70        5036.3   \n",
       "\n",
       "  Churn Label Churn Value Churn Score  CLTV                   Churn Reason  \n",
       "0         Yes           1          86  3239   Competitor made better offer  \n",
       "1         Yes           1          67  2701                          Moved  \n",
       "2         Yes           1          86  5372                          Moved  \n",
       "3         Yes           1          84  5003                          Moved  \n",
       "4         Yes           1          89  5340  Competitor had better devices  \n",
       "\n",
       "[5 rows x 33 columns]"
      ]
     },
     "execution_count": 89,
     "metadata": {},
     "output_type": "execute_result"
    }
   ],
   "source": [
    "df.head(5)"
   ]
  },
  {
   "cell_type": "code",
   "execution_count": 90,
   "id": "91d8268a",
   "metadata": {},
   "outputs": [
    {
     "name": "stdout",
     "output_type": "stream",
     "text": [
      "<class 'pandas.core.frame.DataFrame'>\n",
      "RangeIndex: 7043 entries, 0 to 7042\n",
      "Data columns (total 33 columns):\n",
      " #   Column             Non-Null Count  Dtype  \n",
      "---  ------             --------------  -----  \n",
      " 0   CustomerID         7043 non-null   object \n",
      " 1   Count              7043 non-null   int64  \n",
      " 2   Country            7043 non-null   object \n",
      " 3   State              7043 non-null   object \n",
      " 4   City               7043 non-null   object \n",
      " 5   Zip Code           7043 non-null   int64  \n",
      " 6   Lat Long           7043 non-null   object \n",
      " 7   Latitude           7043 non-null   float64\n",
      " 8   Longitude          7043 non-null   float64\n",
      " 9   Gender             7043 non-null   object \n",
      " 10  Senior Citizen     7043 non-null   object \n",
      " 11  Partner            7043 non-null   object \n",
      " 12  Dependents         7043 non-null   object \n",
      " 13  Tenure Months      7043 non-null   int64  \n",
      " 14  Phone Service      7043 non-null   object \n",
      " 15  Multiple Lines     7043 non-null   object \n",
      " 16  Internet Service   7043 non-null   object \n",
      " 17  Online Security    7043 non-null   object \n",
      " 18  Online Backup      7043 non-null   object \n",
      " 19  Device Protection  7043 non-null   object \n",
      " 20  Tech Support       7043 non-null   object \n",
      " 21  Streaming TV       7043 non-null   object \n",
      " 22  Streaming Movies   7043 non-null   object \n",
      " 23  Contract           7043 non-null   object \n",
      " 24  Paperless Billing  7043 non-null   object \n",
      " 25  Payment Method     7043 non-null   object \n",
      " 26  Monthly Charges    7043 non-null   float64\n",
      " 27  Total Charges      7043 non-null   object \n",
      " 28  Churn Label        7043 non-null   object \n",
      " 29  Churn Value        7043 non-null   int64  \n",
      " 30  Churn Score        7043 non-null   int64  \n",
      " 31  CLTV               7043 non-null   int64  \n",
      " 32  Churn Reason       1869 non-null   object \n",
      "dtypes: float64(3), int64(6), object(24)\n",
      "memory usage: 1.8+ MB\n"
     ]
    }
   ],
   "source": [
    "df.info()"
   ]
  },
  {
   "cell_type": "markdown",
   "id": "8412cd74",
   "metadata": {},
   "source": [
    "**Churn rate**"
   ]
  },
  {
   "cell_type": "code",
   "execution_count": 91,
   "id": "ce772a96",
   "metadata": {},
   "outputs": [
    {
     "data": {
      "text/plain": [
       "No     0.73463\n",
       "Yes    0.26537\n",
       "Name: Churn Label, dtype: float64"
      ]
     },
     "execution_count": 91,
     "metadata": {},
     "output_type": "execute_result"
    }
   ],
   "source": [
    "df['Churn Label'].value_counts(normalize=True)"
   ]
  },
  {
   "cell_type": "markdown",
   "id": "4cdfbce0",
   "metadata": {},
   "source": [
    "We have 26.5% churned customers"
   ]
  },
  {
   "cell_type": "code",
   "execution_count": 92,
   "id": "c38f8043",
   "metadata": {},
   "outputs": [],
   "source": [
    "df['Total Charges'] = pd.to_numeric(df['Total Charges'], errors='coerce').fillna(0)"
   ]
  },
  {
   "cell_type": "markdown",
   "id": "d436abd0",
   "metadata": {},
   "source": [
    "**Function to visualize churn categories and churn reasons**"
   ]
  },
  {
   "cell_type": "code",
   "execution_count": 93,
   "id": "693ad8f7",
   "metadata": {},
   "outputs": [],
   "source": [
    "def plot_count_and_percentage(df, feature):\n",
    "    counts = df[feature].value_counts()\n",
    "    percentages = 100 * df[feature].value_counts(normalize=True)\n",
    "    \n",
    "    fig, ax = plt.subplots(1, 2, figsize=(14, 6))\n",
    "    \n",
    "    sns.barplot(x=counts.index, y=counts.values, ax=ax[0])\n",
    "    ax[0].set_title('Counts')\n",
    "    ax[0].set_xlabel(feature)\n",
    "    ax[0].set_ylabel('Count')\n",
    "    ax[0].set_xticklabels(ax[0].get_xticklabels(), rotation=45, ha='right')\n",
    "\n",
    "    sns.barplot(x=percentages.index, y=percentages.values, ax=ax[1])\n",
    "    ax[1].set_title('Percentages')\n",
    "    ax[1].set_xlabel(feature)\n",
    "    ax[1].set_ylabel('Percentage %')\n",
    "    ax[1].set_xticklabels(ax[1].get_xticklabels(), rotation=45, ha='right')\n",
    "    \n",
    "    plt.tight_layout()\n",
    "    plt.show()"
   ]
  },
  {
   "cell_type": "markdown",
   "id": "d171919f",
   "metadata": {},
   "source": [
    "**Churn Reasons**"
   ]
  },
  {
   "cell_type": "code",
   "execution_count": 94,
   "id": "ff38a5a4",
   "metadata": {},
   "outputs": [
    {
     "data": {
      "image/png": "[encoded data removed]",
      "text/plain": [
       "<Figure size 1008x432 with 2 Axes>"
      ]
     },
     "metadata": {
      "needs_background": "light"
     },
     "output_type": "display_data"
    }
   ],
   "source": [
    "plot_count_and_percentage(df , 'Churn Reason')"
   ]
  },
  {
   "cell_type": "markdown",
   "id": "f714a3ca",
   "metadata": {},
   "source": [
    "**Visualize the relationship between categorial features and Churn Label**"
   ]
  },
  {
   "cell_type": "code",
   "execution_count": 95,
   "id": "48bb2a4c",
   "metadata": {},
   "outputs": [
    {
     "data": {
      "text/plain": [
       "['Gender',\n",
       " 'Senior Citizen',\n",
       " 'Partner',\n",
       " 'Dependents',\n",
       " 'Phone Service',\n",
       " 'Multiple Lines',\n",
       " 'Internet Service',\n",
       " 'Online Security',\n",
       " 'Online Backup',\n",
       " 'Device Protection',\n",
       " 'Tech Support',\n",
       " 'Streaming TV',\n",
       " 'Streaming Movies',\n",
       " 'Contract',\n",
       " 'Paperless Billing',\n",
       " 'Payment Method']"
      ]
     },
     "execution_count": 95,
     "metadata": {},
     "output_type": "execute_result"
    }
   ],
   "source": [
    "Categorial_features = list(df.drop(['CustomerID', 'Country', 'State', 'City', 'Lat Long','Churn Label',\n",
    "                                    'Churn Reason'] ,axis=1).select_dtypes(include='object').columns)\n",
    "Categorial_features"
   ]
  },
  {
   "cell_type": "code",
   "execution_count": 96,
   "id": "5b836443",
   "metadata": {},
   "outputs": [],
   "source": [
    "def visualize_categorial_features(df, features, hue):\n",
    "    num_features = len(features)\n",
    "    cols = 3 \n",
    "    rows = (num_features + cols - 1) // cols \n",
    "    \n",
    "    fig, axes = plt.subplots(rows, cols, figsize=(cols*5, rows*5), constrained_layout=True)\n",
    "    \n",
    "    axes = axes.flatten()\n",
    "    \n",
    "    for i, feature in enumerate(features):\n",
    "        sns.countplot(x=feature, data=df, hue=hue, ax=axes[i])\n",
    "        axes[i].set_title(f'Count Plot of {feature}')\n",
    "        axes[i].set_xlabel(feature)\n",
    "        axes[i].set_ylabel('Count')\n",
    "        \n",
    "        axes[i].set_xticklabels(axes[i].get_xticklabels(), rotation=45, ha='right')\n",
    "\n",
    "    for j in range(len(features),len(axes)):\n",
    "        axes[j].set_visible(False)\n",
    "        \n",
    "    plt.show()"
   ]
  },
  {
   "cell_type": "code",
   "execution_count": 97,
   "id": "a87b80a7",
   "metadata": {},
   "outputs": [
    {
     "data": {
      "image/png": "[encoded data removed]",
      "text/plain": [
       "<Figure size 1080x2160 with 18 Axes>"
      ]
     },
     "metadata": {
      "needs_background": "light"
     },
     "output_type": "display_data"
    }
   ],
   "source": [
    "visualize_categorial_features(df , Categorial_features , 'Churn Label')"
   ]
  },
  {
   "cell_type": "markdown",
   "id": "45f5006b",
   "metadata": {},
   "source": [
    "**Critical categorial features**\n",
    "* Senior citizen\n",
    "* Partner\n",
    "* Dependents\n",
    "* Internet service\n",
    "* Internet type\n",
    "* Online security\n",
    "* Backup\n",
    "* Device protection plan\n",
    "* Premium Tech Support\n",
    "* Contract\n",
    "* Paperless billing\n",
    "* Payment method"
   ]
  },
  {
   "cell_type": "markdown",
   "id": "2131b8ab",
   "metadata": {},
   "source": [
    "**Visualize the relationship between numerical features and Churn Label**"
   ]
  },
  {
   "cell_type": "code",
   "execution_count": 98,
   "id": "574c896f",
   "metadata": {},
   "outputs": [
    {
     "data": {
      "text/html": [
       "<div>\n",
       "<style scoped>\n",
       "    .dataframe tbody tr th:only-of-type {\n",
       "        vertical-align: middle;\n",
       "    }\n",
       "\n",
       "    .dataframe tbody tr th {\n",
       "        vertical-align: top;\n",
       "    }\n",
       "\n",
       "    .dataframe thead th {\n",
       "        text-align: right;\n",
       "    }\n",
       "</style>\n",
       "<table border=\"1\" class=\"dataframe\">\n",
       "  <thead>\n",
       "    <tr style=\"text-align: right;\">\n",
       "      <th></th>\n",
       "      <th>Count</th>\n",
       "      <th>Zip Code</th>\n",
       "      <th>Latitude</th>\n",
       "      <th>Longitude</th>\n",
       "      <th>Tenure Months</th>\n",
       "      <th>Monthly Charges</th>\n",
       "      <th>Total Charges</th>\n",
       "      <th>Churn Value</th>\n",
       "      <th>Churn Score</th>\n",
       "      <th>CLTV</th>\n",
       "    </tr>\n",
       "  </thead>\n",
       "  <tbody>\n",
       "    <tr>\n",
       "      <th>0</th>\n",
       "      <td>1</td>\n",
       "      <td>90003</td>\n",
       "      <td>33.964131</td>\n",
       "      <td>-118.272783</td>\n",
       "      <td>2</td>\n",
       "      <td>53.85</td>\n",
       "      <td>108.15</td>\n",
       "      <td>1</td>\n",
       "      <td>86</td>\n",
       "      <td>3239</td>\n",
       "    </tr>\n",
       "    <tr>\n",
       "      <th>1</th>\n",
       "      <td>1</td>\n",
       "      <td>90005</td>\n",
       "      <td>34.059281</td>\n",
       "      <td>-118.307420</td>\n",
       "      <td>2</td>\n",
       "      <td>70.70</td>\n",
       "      <td>151.65</td>\n",
       "      <td>1</td>\n",
       "      <td>67</td>\n",
       "      <td>2701</td>\n",
       "    </tr>\n",
       "    <tr>\n",
       "      <th>2</th>\n",
       "      <td>1</td>\n",
       "      <td>90006</td>\n",
       "      <td>34.048013</td>\n",
       "      <td>-118.293953</td>\n",
       "      <td>8</td>\n",
       "      <td>99.65</td>\n",
       "      <td>820.50</td>\n",
       "      <td>1</td>\n",
       "      <td>86</td>\n",
       "      <td>5372</td>\n",
       "    </tr>\n",
       "    <tr>\n",
       "      <th>3</th>\n",
       "      <td>1</td>\n",
       "      <td>90010</td>\n",
       "      <td>34.062125</td>\n",
       "      <td>-118.315709</td>\n",
       "      <td>28</td>\n",
       "      <td>104.80</td>\n",
       "      <td>3046.05</td>\n",
       "      <td>1</td>\n",
       "      <td>84</td>\n",
       "      <td>5003</td>\n",
       "    </tr>\n",
       "    <tr>\n",
       "      <th>4</th>\n",
       "      <td>1</td>\n",
       "      <td>90015</td>\n",
       "      <td>34.039224</td>\n",
       "      <td>-118.266293</td>\n",
       "      <td>49</td>\n",
       "      <td>103.70</td>\n",
       "      <td>5036.30</td>\n",
       "      <td>1</td>\n",
       "      <td>89</td>\n",
       "      <td>5340</td>\n",
       "    </tr>\n",
       "    <tr>\n",
       "      <th>...</th>\n",
       "      <td>...</td>\n",
       "      <td>...</td>\n",
       "      <td>...</td>\n",
       "      <td>...</td>\n",
       "      <td>...</td>\n",
       "      <td>...</td>\n",
       "      <td>...</td>\n",
       "      <td>...</td>\n",
       "      <td>...</td>\n",
       "      <td>...</td>\n",
       "    </tr>\n",
       "    <tr>\n",
       "      <th>7038</th>\n",
       "      <td>1</td>\n",
       "      <td>92285</td>\n",
       "      <td>34.341737</td>\n",
       "      <td>-116.539416</td>\n",
       "      <td>72</td>\n",
       "      <td>21.15</td>\n",
       "      <td>1419.40</td>\n",
       "      <td>0</td>\n",
       "      <td>45</td>\n",
       "      <td>5306</td>\n",
       "    </tr>\n",
       "    <tr>\n",
       "      <th>7039</th>\n",
       "      <td>1</td>\n",
       "      <td>92301</td>\n",
       "      <td>34.667815</td>\n",
       "      <td>-117.536183</td>\n",
       "      <td>24</td>\n",
       "      <td>84.80</td>\n",
       "      <td>1990.50</td>\n",
       "      <td>0</td>\n",
       "      <td>59</td>\n",
       "      <td>2140</td>\n",
       "    </tr>\n",
       "    <tr>\n",
       "      <th>7040</th>\n",
       "      <td>1</td>\n",
       "      <td>92304</td>\n",
       "      <td>34.559882</td>\n",
       "      <td>-115.637164</td>\n",
       "      <td>72</td>\n",
       "      <td>103.20</td>\n",
       "      <td>7362.90</td>\n",
       "      <td>0</td>\n",
       "      <td>71</td>\n",
       "      <td>5560</td>\n",
       "    </tr>\n",
       "    <tr>\n",
       "      <th>7041</th>\n",
       "      <td>1</td>\n",
       "      <td>92305</td>\n",
       "      <td>34.167800</td>\n",
       "      <td>-116.864330</td>\n",
       "      <td>11</td>\n",
       "      <td>29.60</td>\n",
       "      <td>346.45</td>\n",
       "      <td>0</td>\n",
       "      <td>59</td>\n",
       "      <td>2793</td>\n",
       "    </tr>\n",
       "    <tr>\n",
       "      <th>7042</th>\n",
       "      <td>1</td>\n",
       "      <td>92308</td>\n",
       "      <td>34.424926</td>\n",
       "      <td>-117.184503</td>\n",
       "      <td>66</td>\n",
       "      <td>105.65</td>\n",
       "      <td>6844.50</td>\n",
       "      <td>0</td>\n",
       "      <td>38</td>\n",
       "      <td>5097</td>\n",
       "    </tr>\n",
       "  </tbody>\n",
       "</table>\n",
       "<p>7043 rows × 10 columns</p>\n",
       "</div>"
      ],
      "text/plain": [
       "      Count  Zip Code   Latitude   Longitude  Tenure Months  Monthly Charges  \\\n",
       "0         1     90003  33.964131 -118.272783              2            53.85   \n",
       "1         1     90005  34.059281 -118.307420              2            70.70   \n",
       "2         1     90006  34.048013 -118.293953              8            99.65   \n",
       "3         1     90010  34.062125 -118.315709             28           104.80   \n",
       "4         1     90015  34.039224 -118.266293             49           103.70   \n",
       "...     ...       ...        ...         ...            ...              ...   \n",
       "7038      1     92285  34.341737 -116.539416             72            21.15   \n",
       "7039      1     92301  34.667815 -117.536183             24            84.80   \n",
       "7040      1     92304  34.559882 -115.637164             72           103.20   \n",
       "7041      1     92305  34.167800 -116.864330             11            29.60   \n",
       "7042      1     92308  34.424926 -117.184503             66           105.65   \n",
       "\n",
       "      Total Charges  Churn Value  Churn Score  CLTV  \n",
       "0            108.15            1           86  3239  \n",
       "1            151.65            1           67  2701  \n",
       "2            820.50            1           86  5372  \n",
       "3           3046.05            1           84  5003  \n",
       "4           5036.30            1           89  5340  \n",
       "...             ...          ...          ...   ...  \n",
       "7038        1419.40            0           45  5306  \n",
       "7039        1990.50            0           59  2140  \n",
       "7040        7362.90            0           71  5560  \n",
       "7041         346.45            0           59  2793  \n",
       "7042        6844.50            0           38  5097  \n",
       "\n",
       "[7043 rows x 10 columns]"
      ]
     },
     "execution_count": 98,
     "metadata": {},
     "output_type": "execute_result"
    }
   ],
   "source": [
    "numerical_features = df.select_dtypes(include=\"number\")\n",
    "numerical_features"
   ]
  },
  {
   "cell_type": "code",
   "execution_count": 99,
   "id": "6f6c3410",
   "metadata": {},
   "outputs": [],
   "source": [
    "numerical_features.drop(['Zip Code','Latitude','Longitude','Count','Churn Value'] , axis=1,inplace = True)"
   ]
  },
  {
   "cell_type": "code",
   "execution_count": 100,
   "id": "15c6667d",
   "metadata": {},
   "outputs": [],
   "source": [
    "def visualize_numerical_features(df, numerical_features):\n",
    "    num_features = len(numerical_features)\n",
    "    num_rows = (num_features + 1) // 2\n",
    "    fig, axes = plt.subplots(num_rows, 2, figsize=(14, num_rows * 5))\n",
    "    \n",
    "    axes = axes.flatten()\n",
    "    \n",
    "    for i, feature in enumerate(numerical_features):\n",
    "        sns.boxplot(x=df['Churn Label'], y=feature, data=df, ax=axes[i])\n",
    "        axes[i].set_title(f'{feature} vs Churn Label')\n",
    "        \n",
    "    for j in range(len(numerical_features),len(axes)):\n",
    "        axes[j].set_visible(False)\n",
    "    \n",
    "   \n",
    "    plt.tight_layout()\n",
    "    plt.show()"
   ]
  },
  {
   "cell_type": "code",
   "execution_count": 101,
   "id": "b84d58b8",
   "metadata": {},
   "outputs": [
    {
     "data": {
      "text/plain": [
       "['Tenure Months', 'Monthly Charges', 'Total Charges', 'Churn Score', 'CLTV']"
      ]
     },
     "execution_count": 101,
     "metadata": {},
     "output_type": "execute_result"
    }
   ],
   "source": [
    "numerical_columns = list(numerical_features.columns)\n",
    "numerical_columns"
   ]
  },
  {
   "cell_type": "code",
   "execution_count": 102,
   "id": "61d29d1b",
   "metadata": {},
   "outputs": [
    {
     "data": {
      "image/png": "[encoded data removed]",
      "text/plain": [
       "<Figure size 1008x1080 with 6 Axes>"
      ]
     },
     "metadata": {
      "needs_background": "light"
     },
     "output_type": "display_data"
    }
   ],
   "source": [
    "visualize_numerical_features(df , numerical_columns)"
   ]
  },
  {
   "cell_type": "markdown",
   "id": "8a4bbf87",
   "metadata": {},
   "source": [
    "**Critical numerical features**\n",
    "* Tenure in months\n",
    "* Total Charges\n",
    "* Churn score"
   ]
  },
  {
   "cell_type": "markdown",
   "id": "1ed187b1",
   "metadata": {},
   "source": [
    "**Feature selection based on exploratory data analysis**"
   ]
  },
  {
   "cell_type": "code",
   "execution_count": 103,
   "id": "dc59aebf",
   "metadata": {
    "scrolled": true
   },
   "outputs": [
    {
     "data": {
      "text/html": [
       "<div>\n",
       "<style scoped>\n",
       "    .dataframe tbody tr th:only-of-type {\n",
       "        vertical-align: middle;\n",
       "    }\n",
       "\n",
       "    .dataframe tbody tr th {\n",
       "        vertical-align: top;\n",
       "    }\n",
       "\n",
       "    .dataframe thead th {\n",
       "        text-align: right;\n",
       "    }\n",
       "</style>\n",
       "<table border=\"1\" class=\"dataframe\">\n",
       "  <thead>\n",
       "    <tr style=\"text-align: right;\">\n",
       "      <th></th>\n",
       "      <th>Senior Citizen</th>\n",
       "      <th>Partner</th>\n",
       "      <th>Dependents</th>\n",
       "      <th>Internet Service</th>\n",
       "      <th>Online Security</th>\n",
       "      <th>Online Backup</th>\n",
       "      <th>Device Protection</th>\n",
       "      <th>Tech Support</th>\n",
       "      <th>Streaming TV</th>\n",
       "      <th>Streaming Movies</th>\n",
       "      <th>Contract</th>\n",
       "      <th>Paperless Billing</th>\n",
       "      <th>Payment Method</th>\n",
       "      <th>Tenure Months</th>\n",
       "      <th>Monthly Charges</th>\n",
       "      <th>Total Charges</th>\n",
       "      <th>Churn Score</th>\n",
       "      <th>CLTV</th>\n",
       "    </tr>\n",
       "  </thead>\n",
       "  <tbody>\n",
       "    <tr>\n",
       "      <th>0</th>\n",
       "      <td>No</td>\n",
       "      <td>No</td>\n",
       "      <td>No</td>\n",
       "      <td>DSL</td>\n",
       "      <td>Yes</td>\n",
       "      <td>Yes</td>\n",
       "      <td>No</td>\n",
       "      <td>No</td>\n",
       "      <td>No</td>\n",
       "      <td>No</td>\n",
       "      <td>Month-to-month</td>\n",
       "      <td>Yes</td>\n",
       "      <td>Mailed check</td>\n",
       "      <td>2</td>\n",
       "      <td>53.85</td>\n",
       "      <td>108.15</td>\n",
       "      <td>86</td>\n",
       "      <td>3239</td>\n",
       "    </tr>\n",
       "    <tr>\n",
       "      <th>1</th>\n",
       "      <td>No</td>\n",
       "      <td>No</td>\n",
       "      <td>Yes</td>\n",
       "      <td>Fiber optic</td>\n",
       "      <td>No</td>\n",
       "      <td>No</td>\n",
       "      <td>No</td>\n",
       "      <td>No</td>\n",
       "      <td>No</td>\n",
       "      <td>No</td>\n",
       "      <td>Month-to-month</td>\n",
       "      <td>Yes</td>\n",
       "      <td>Electronic check</td>\n",
       "      <td>2</td>\n",
       "      <td>70.70</td>\n",
       "      <td>151.65</td>\n",
       "      <td>67</td>\n",
       "      <td>2701</td>\n",
       "    </tr>\n",
       "    <tr>\n",
       "      <th>2</th>\n",
       "      <td>No</td>\n",
       "      <td>No</td>\n",
       "      <td>Yes</td>\n",
       "      <td>Fiber optic</td>\n",
       "      <td>No</td>\n",
       "      <td>No</td>\n",
       "      <td>Yes</td>\n",
       "      <td>No</td>\n",
       "      <td>Yes</td>\n",
       "      <td>Yes</td>\n",
       "      <td>Month-to-month</td>\n",
       "      <td>Yes</td>\n",
       "      <td>Electronic check</td>\n",
       "      <td>8</td>\n",
       "      <td>99.65</td>\n",
       "      <td>820.50</td>\n",
       "      <td>86</td>\n",
       "      <td>5372</td>\n",
       "    </tr>\n",
       "    <tr>\n",
       "      <th>3</th>\n",
       "      <td>No</td>\n",
       "      <td>Yes</td>\n",
       "      <td>Yes</td>\n",
       "      <td>Fiber optic</td>\n",
       "      <td>No</td>\n",
       "      <td>No</td>\n",
       "      <td>Yes</td>\n",
       "      <td>Yes</td>\n",
       "      <td>Yes</td>\n",
       "      <td>Yes</td>\n",
       "      <td>Month-to-month</td>\n",
       "      <td>Yes</td>\n",
       "      <td>Electronic check</td>\n",
       "      <td>28</td>\n",
       "      <td>104.80</td>\n",
       "      <td>3046.05</td>\n",
       "      <td>84</td>\n",
       "      <td>5003</td>\n",
       "    </tr>\n",
       "    <tr>\n",
       "      <th>4</th>\n",
       "      <td>No</td>\n",
       "      <td>No</td>\n",
       "      <td>Yes</td>\n",
       "      <td>Fiber optic</td>\n",
       "      <td>No</td>\n",
       "      <td>Yes</td>\n",
       "      <td>Yes</td>\n",
       "      <td>No</td>\n",
       "      <td>Yes</td>\n",
       "      <td>Yes</td>\n",
       "      <td>Month-to-month</td>\n",
       "      <td>Yes</td>\n",
       "      <td>Bank transfer (automatic)</td>\n",
       "      <td>49</td>\n",
       "      <td>103.70</td>\n",
       "      <td>5036.30</td>\n",
       "      <td>89</td>\n",
       "      <td>5340</td>\n",
       "    </tr>\n",
       "    <tr>\n",
       "      <th>...</th>\n",
       "      <td>...</td>\n",
       "      <td>...</td>\n",
       "      <td>...</td>\n",
       "      <td>...</td>\n",
       "      <td>...</td>\n",
       "      <td>...</td>\n",
       "      <td>...</td>\n",
       "      <td>...</td>\n",
       "      <td>...</td>\n",
       "      <td>...</td>\n",
       "      <td>...</td>\n",
       "      <td>...</td>\n",
       "      <td>...</td>\n",
       "      <td>...</td>\n",
       "      <td>...</td>\n",
       "      <td>...</td>\n",
       "      <td>...</td>\n",
       "      <td>...</td>\n",
       "    </tr>\n",
       "    <tr>\n",
       "      <th>7038</th>\n",
       "      <td>No</td>\n",
       "      <td>No</td>\n",
       "      <td>No</td>\n",
       "      <td>No</td>\n",
       "      <td>No internet service</td>\n",
       "      <td>No internet service</td>\n",
       "      <td>No internet service</td>\n",
       "      <td>No internet service</td>\n",
       "      <td>No internet service</td>\n",
       "      <td>No internet service</td>\n",
       "      <td>Two year</td>\n",
       "      <td>Yes</td>\n",
       "      <td>Bank transfer (automatic)</td>\n",
       "      <td>72</td>\n",
       "      <td>21.15</td>\n",
       "      <td>1419.40</td>\n",
       "      <td>45</td>\n",
       "      <td>5306</td>\n",
       "    </tr>\n",
       "    <tr>\n",
       "      <th>7039</th>\n",
       "      <td>No</td>\n",
       "      <td>Yes</td>\n",
       "      <td>Yes</td>\n",
       "      <td>DSL</td>\n",
       "      <td>Yes</td>\n",
       "      <td>No</td>\n",
       "      <td>Yes</td>\n",
       "      <td>Yes</td>\n",
       "      <td>Yes</td>\n",
       "      <td>Yes</td>\n",
       "      <td>One year</td>\n",
       "      <td>Yes</td>\n",
       "      <td>Mailed check</td>\n",
       "      <td>24</td>\n",
       "      <td>84.80</td>\n",
       "      <td>1990.50</td>\n",
       "      <td>59</td>\n",
       "      <td>2140</td>\n",
       "    </tr>\n",
       "    <tr>\n",
       "      <th>7040</th>\n",
       "      <td>No</td>\n",
       "      <td>Yes</td>\n",
       "      <td>Yes</td>\n",
       "      <td>Fiber optic</td>\n",
       "      <td>No</td>\n",
       "      <td>Yes</td>\n",
       "      <td>Yes</td>\n",
       "      <td>No</td>\n",
       "      <td>Yes</td>\n",
       "      <td>Yes</td>\n",
       "      <td>One year</td>\n",
       "      <td>Yes</td>\n",
       "      <td>Credit card (automatic)</td>\n",
       "      <td>72</td>\n",
       "      <td>103.20</td>\n",
       "      <td>7362.90</td>\n",
       "      <td>71</td>\n",
       "      <td>5560</td>\n",
       "    </tr>\n",
       "    <tr>\n",
       "      <th>7041</th>\n",
       "      <td>No</td>\n",
       "      <td>Yes</td>\n",
       "      <td>Yes</td>\n",
       "      <td>DSL</td>\n",
       "      <td>Yes</td>\n",
       "      <td>No</td>\n",
       "      <td>No</td>\n",
       "      <td>No</td>\n",
       "      <td>No</td>\n",
       "      <td>No</td>\n",
       "      <td>Month-to-month</td>\n",
       "      <td>Yes</td>\n",
       "      <td>Electronic check</td>\n",
       "      <td>11</td>\n",
       "      <td>29.60</td>\n",
       "      <td>346.45</td>\n",
       "      <td>59</td>\n",
       "      <td>2793</td>\n",
       "    </tr>\n",
       "    <tr>\n",
       "      <th>7042</th>\n",
       "      <td>No</td>\n",
       "      <td>No</td>\n",
       "      <td>No</td>\n",
       "      <td>Fiber optic</td>\n",
       "      <td>Yes</td>\n",
       "      <td>No</td>\n",
       "      <td>Yes</td>\n",
       "      <td>Yes</td>\n",
       "      <td>Yes</td>\n",
       "      <td>Yes</td>\n",
       "      <td>Two year</td>\n",
       "      <td>Yes</td>\n",
       "      <td>Bank transfer (automatic)</td>\n",
       "      <td>66</td>\n",
       "      <td>105.65</td>\n",
       "      <td>6844.50</td>\n",
       "      <td>38</td>\n",
       "      <td>5097</td>\n",
       "    </tr>\n",
       "  </tbody>\n",
       "</table>\n",
       "<p>7043 rows × 18 columns</p>\n",
       "</div>"
      ],
      "text/plain": [
       "     Senior Citizen Partner Dependents Internet Service      Online Security  \\\n",
       "0                No      No         No              DSL                  Yes   \n",
       "1                No      No        Yes      Fiber optic                   No   \n",
       "2                No      No        Yes      Fiber optic                   No   \n",
       "3                No     Yes        Yes      Fiber optic                   No   \n",
       "4                No      No        Yes      Fiber optic                   No   \n",
       "...             ...     ...        ...              ...                  ...   \n",
       "7038             No      No         No               No  No internet service   \n",
       "7039             No     Yes        Yes              DSL                  Yes   \n",
       "7040             No     Yes        Yes      Fiber optic                   No   \n",
       "7041             No     Yes        Yes              DSL                  Yes   \n",
       "7042             No      No         No      Fiber optic                  Yes   \n",
       "\n",
       "            Online Backup    Device Protection         Tech Support  \\\n",
       "0                     Yes                   No                   No   \n",
       "1                      No                   No                   No   \n",
       "2                      No                  Yes                   No   \n",
       "3                      No                  Yes                  Yes   \n",
       "4                     Yes                  Yes                   No   \n",
       "...                   ...                  ...                  ...   \n",
       "7038  No internet service  No internet service  No internet service   \n",
       "7039                   No                  Yes                  Yes   \n",
       "7040                  Yes                  Yes                   No   \n",
       "7041                   No                   No                   No   \n",
       "7042                   No                  Yes                  Yes   \n",
       "\n",
       "             Streaming TV     Streaming Movies        Contract  \\\n",
       "0                      No                   No  Month-to-month   \n",
       "1                      No                   No  Month-to-month   \n",
       "2                     Yes                  Yes  Month-to-month   \n",
       "3                     Yes                  Yes  Month-to-month   \n",
       "4                     Yes                  Yes  Month-to-month   \n",
       "...                   ...                  ...             ...   \n",
       "7038  No internet service  No internet service        Two year   \n",
       "7039                  Yes                  Yes        One year   \n",
       "7040                  Yes                  Yes        One year   \n",
       "7041                   No                   No  Month-to-month   \n",
       "7042                  Yes                  Yes        Two year   \n",
       "\n",
       "     Paperless Billing             Payment Method  Tenure Months  \\\n",
       "0                  Yes               Mailed check              2   \n",
       "1                  Yes           Electronic check              2   \n",
       "2                  Yes           Electronic check              8   \n",
       "3                  Yes           Electronic check             28   \n",
       "4                  Yes  Bank transfer (automatic)             49   \n",
       "...                ...                        ...            ...   \n",
       "7038               Yes  Bank transfer (automatic)             72   \n",
       "7039               Yes               Mailed check             24   \n",
       "7040               Yes    Credit card (automatic)             72   \n",
       "7041               Yes           Electronic check             11   \n",
       "7042               Yes  Bank transfer (automatic)             66   \n",
       "\n",
       "      Monthly Charges  Total Charges  Churn Score  CLTV  \n",
       "0               53.85         108.15           86  3239  \n",
       "1               70.70         151.65           67  2701  \n",
       "2               99.65         820.50           86  5372  \n",
       "3              104.80        3046.05           84  5003  \n",
       "4              103.70        5036.30           89  5340  \n",
       "...               ...            ...          ...   ...  \n",
       "7038            21.15        1419.40           45  5306  \n",
       "7039            84.80        1990.50           59  2140  \n",
       "7040           103.20        7362.90           71  5560  \n",
       "7041            29.60         346.45           59  2793  \n",
       "7042           105.65        6844.50           38  5097  \n",
       "\n",
       "[7043 rows x 18 columns]"
      ]
     },
     "execution_count": 103,
     "metadata": {},
     "output_type": "execute_result"
    }
   ],
   "source": [
    "selected_features = ['Senior Citizen', 'Partner', 'Dependents', 'Internet Service', 'Online Security', 'Online Backup', \n",
    "                     'Device Protection', 'Tech Support', 'Streaming TV', 'Streaming Movies', 'Contract',  'Paperless Billing',\n",
    "                     'Payment Method','Tenure Months', 'Monthly Charges', 'Total Charges', 'Churn Score', 'CLTV']\n",
    "df[selected_features]"
   ]
  },
  {
   "cell_type": "markdown",
   "id": "3df99dc9",
   "metadata": {},
   "source": [
    "**One-Hot encoding**"
   ]
  },
  {
   "cell_type": "code",
   "execution_count": 104,
   "id": "502c0df1",
   "metadata": {},
   "outputs": [
    {
     "name": "stdout",
     "output_type": "stream",
     "text": [
      "<class 'pandas.core.frame.DataFrame'>\n",
      "RangeIndex: 7043 entries, 0 to 7042\n",
      "Data columns (total 41 columns):\n",
      " #   Column                                    Non-Null Count  Dtype  \n",
      "---  ------                                    --------------  -----  \n",
      " 0   Tenure Months                             7043 non-null   int64  \n",
      " 1   Monthly Charges                           7043 non-null   float64\n",
      " 2   Total Charges                             7043 non-null   float64\n",
      " 3   Churn Score                               7043 non-null   int64  \n",
      " 4   CLTV                                      7043 non-null   int64  \n",
      " 5   Senior Citizen_No                         7043 non-null   uint8  \n",
      " 6   Senior Citizen_Yes                        7043 non-null   uint8  \n",
      " 7   Partner_No                                7043 non-null   uint8  \n",
      " 8   Partner_Yes                               7043 non-null   uint8  \n",
      " 9   Dependents_No                             7043 non-null   uint8  \n",
      " 10  Dependents_Yes                            7043 non-null   uint8  \n",
      " 11  Internet Service_DSL                      7043 non-null   uint8  \n",
      " 12  Internet Service_Fiber optic              7043 non-null   uint8  \n",
      " 13  Internet Service_No                       7043 non-null   uint8  \n",
      " 14  Online Security_No                        7043 non-null   uint8  \n",
      " 15  Online Security_No internet service       7043 non-null   uint8  \n",
      " 16  Online Security_Yes                       7043 non-null   uint8  \n",
      " 17  Online Backup_No                          7043 non-null   uint8  \n",
      " 18  Online Backup_No internet service         7043 non-null   uint8  \n",
      " 19  Online Backup_Yes                         7043 non-null   uint8  \n",
      " 20  Device Protection_No                      7043 non-null   uint8  \n",
      " 21  Device Protection_No internet service     7043 non-null   uint8  \n",
      " 22  Device Protection_Yes                     7043 non-null   uint8  \n",
      " 23  Tech Support_No                           7043 non-null   uint8  \n",
      " 24  Tech Support_No internet service          7043 non-null   uint8  \n",
      " 25  Tech Support_Yes                          7043 non-null   uint8  \n",
      " 26  Streaming TV_No                           7043 non-null   uint8  \n",
      " 27  Streaming TV_No internet service          7043 non-null   uint8  \n",
      " 28  Streaming TV_Yes                          7043 non-null   uint8  \n",
      " 29  Streaming Movies_No                       7043 non-null   uint8  \n",
      " 30  Streaming Movies_No internet service      7043 non-null   uint8  \n",
      " 31  Streaming Movies_Yes                      7043 non-null   uint8  \n",
      " 32  Contract_Month-to-month                   7043 non-null   uint8  \n",
      " 33  Contract_One year                         7043 non-null   uint8  \n",
      " 34  Contract_Two year                         7043 non-null   uint8  \n",
      " 35  Paperless Billing_No                      7043 non-null   uint8  \n",
      " 36  Paperless Billing_Yes                     7043 non-null   uint8  \n",
      " 37  Payment Method_Bank transfer (automatic)  7043 non-null   uint8  \n",
      " 38  Payment Method_Credit card (automatic)    7043 non-null   uint8  \n",
      " 39  Payment Method_Electronic check           7043 non-null   uint8  \n",
      " 40  Payment Method_Mailed check               7043 non-null   uint8  \n",
      "dtypes: float64(2), int64(3), uint8(36)\n",
      "memory usage: 522.8 KB\n"
     ]
    }
   ],
   "source": [
    "X = pd.get_dummies(df[selected_features])\n",
    "X.info()"
   ]
  },
  {
   "cell_type": "markdown",
   "id": "87a6be81",
   "metadata": {},
   "source": [
    "**Encoding the target**"
   ]
  },
  {
   "cell_type": "code",
   "execution_count": 105,
   "id": "01665114",
   "metadata": {},
   "outputs": [
    {
     "data": {
      "text/plain": [
       "0       1\n",
       "1       1\n",
       "2       1\n",
       "3       1\n",
       "4       1\n",
       "       ..\n",
       "7038    0\n",
       "7039    0\n",
       "7040    0\n",
       "7041    0\n",
       "7042    0\n",
       "Name: Churn Label, Length: 7043, dtype: int64"
      ]
     },
     "execution_count": 105,
     "metadata": {},
     "output_type": "execute_result"
    }
   ],
   "source": [
    "Y = df['Churn Label'].replace({'Yes':1,'No':0})\n",
    "Y"
   ]
  },
  {
   "cell_type": "markdown",
   "id": "1b14fa55",
   "metadata": {},
   "source": [
    "**Train-Test split**"
   ]
  },
  {
   "cell_type": "code",
   "execution_count": 106,
   "id": "e98720bd",
   "metadata": {},
   "outputs": [],
   "source": [
    "x_train , x_test , y_train , y_test = train_test_split(X , Y , test_size=.2 , stratify=Y,random_state=23)"
   ]
  },
  {
   "cell_type": "markdown",
   "id": "c093aa2d",
   "metadata": {},
   "source": [
    "**Class weights**"
   ]
  },
  {
   "cell_type": "code",
   "execution_count": 107,
   "id": "31e0f7a9",
   "metadata": {},
   "outputs": [],
   "source": [
    "sample_weights = compute_sample_weight(class_weight='balanced', y=y_train)"
   ]
  },
  {
   "cell_type": "markdown",
   "id": "96d08093",
   "metadata": {},
   "source": [
    "### DecisionTree model\n",
    "\n",
    " It works by recursively splitting the data into subsets based on the values of input features, creating a tree-like structure of decisions.\n",
    " \n",
    "`Structure of a Decision Tree`\n",
    "\n",
    "1 .`Nodes` :\n",
    "\n",
    "* Root Node: The topmost node that represents the entire dataset. It is split into child nodes based on a feature that best separates the data.\n",
    "* Decision Nodes: Internal nodes where the data is split based on feature values.\n",
    "* Leaf Nodes: Terminal nodes that provide the final output or prediction. \n",
    "\n",
    "2 . `Edges` : The branches connecting nodes, representing the outcome of a decision (i.e., a specific feature value).\n",
    "\n",
    "The decision tree algorithm splits the dataset at each node based on the value of a feature that maximizes a criterion such as  Gini impurity or entropy . This process continues recursively.\n",
    "The recursive splitting stops when a node reaches a predefined maximum depth , a node has fewer than a minimum number of samples or the data in the node is perfectly classified or predicts a single continuous value."
   ]
  },
  {
   "cell_type": "code",
   "execution_count": 114,
   "id": "815cf76c",
   "metadata": {},
   "outputs": [],
   "source": [
    "dt_model = DecisionTreeClassifier()\n",
    "dt_params = {\n",
    "    'criterion' : ['entropy' , 'gini'],\n",
    "    'max_depth' : [5 , 8, 10, 12],\n",
    "}\n",
    "grid_dt_model = GridSearchCV(estimator = dt_model , param_grid = dt_params , scoring = 'accuracy')"
   ]
  },
  {
   "cell_type": "code",
   "execution_count": 115,
   "id": "fc75a621",
   "metadata": {},
   "outputs": [
    {
     "data": {
      "text/plain": [
       "GridSearchCV(estimator=DecisionTreeClassifier(),\n",
       "             param_grid={'criterion': ['entropy', 'gini'],\n",
       "                         'max_depth': [5, 8, 10, 12]},\n",
       "             scoring='accuracy')"
      ]
     },
     "execution_count": 115,
     "metadata": {},
     "output_type": "execute_result"
    }
   ],
   "source": [
    "grid_dt_model.fit(x_train , y_train, sample_weight=sample_weights)"
   ]
  },
  {
   "cell_type": "code",
   "execution_count": 116,
   "id": "3ebbc9de",
   "metadata": {},
   "outputs": [
    {
     "data": {
      "text/plain": [
       "DecisionTreeClassifier(max_depth=12)"
      ]
     },
     "execution_count": 116,
     "metadata": {},
     "output_type": "execute_result"
    }
   ],
   "source": [
    "best_DT = grid_dt_model.best_estimator_\n",
    "best_DT"
   ]
  },
  {
   "cell_type": "code",
   "execution_count": 117,
   "id": "6f18cf73",
   "metadata": {},
   "outputs": [
    {
     "data": {
      "text/html": [
       "<div>\n",
       "<style scoped>\n",
       "    .dataframe tbody tr th:only-of-type {\n",
       "        vertical-align: middle;\n",
       "    }\n",
       "\n",
       "    .dataframe tbody tr th {\n",
       "        vertical-align: top;\n",
       "    }\n",
       "\n",
       "    .dataframe thead th {\n",
       "        text-align: right;\n",
       "    }\n",
       "</style>\n",
       "<table border=\"1\" class=\"dataframe\">\n",
       "  <thead>\n",
       "    <tr style=\"text-align: right;\">\n",
       "      <th></th>\n",
       "      <th>train</th>\n",
       "      <th>test</th>\n",
       "    </tr>\n",
       "  </thead>\n",
       "  <tbody>\n",
       "    <tr>\n",
       "      <th>accuracy</th>\n",
       "      <td>0.961129</td>\n",
       "      <td>0.911285</td>\n",
       "    </tr>\n",
       "    <tr>\n",
       "      <th>precision</th>\n",
       "      <td>0.876179</td>\n",
       "      <td>0.788863</td>\n",
       "    </tr>\n",
       "    <tr>\n",
       "      <th>recall</th>\n",
       "      <td>0.993980</td>\n",
       "      <td>0.909091</td>\n",
       "    </tr>\n",
       "    <tr>\n",
       "      <th>f1</th>\n",
       "      <td>0.931369</td>\n",
       "      <td>0.844720</td>\n",
       "    </tr>\n",
       "  </tbody>\n",
       "</table>\n",
       "</div>"
      ],
      "text/plain": [
       "              train      test\n",
       "accuracy   0.961129  0.911285\n",
       "precision  0.876179  0.788863\n",
       "recall     0.993980  0.909091\n",
       "f1         0.931369  0.844720"
      ]
     },
     "execution_count": 117,
     "metadata": {},
     "output_type": "execute_result"
    }
   ],
   "source": [
    "y_train_pred = best_DT.predict(x_train)\n",
    "y_test_pred = best_DT.predict(x_test)\n",
    "\n",
    "train_test_full_error = pd.concat([measure_error(y_train, y_train_pred, 'train'),\n",
    "                              measure_error(y_test, y_test_pred, 'test')],\n",
    "                              axis=1)\n",
    "\n",
    "train_test_full_error"
   ]
  },
  {
   "cell_type": "code",
   "execution_count": 118,
   "id": "479593aa",
   "metadata": {},
   "outputs": [
    {
     "data": {
      "image/png": "[encoded data removed]",
      "text/plain": [
       "<Figure size 432x288 with 2 Axes>"
      ]
     },
     "metadata": {
      "needs_background": "light"
     },
     "output_type": "display_data"
    }
   ],
   "source": [
    "conf_matrix = confusion_matrix(y_test, y_test_pred)\n",
    "sns.heatmap(conf_matrix, annot=True, fmt='d', cmap='Blues', xticklabels=['0', '1'], yticklabels=['0', '1'])\n",
    "plt.xlabel('Predicted')\n",
    "plt.ylabel('True')\n",
    "plt.title('Confusion Matrix')\n",
    "plt.show()"
   ]
  },
  {
   "cell_type": "markdown",
   "id": "dd07d575",
   "metadata": {},
   "source": [
    "**I have used class reweighting to deal with class imbalance , class weights increase recall on the expense of precision and this exactly what we want because the cost of false positive predictions is less than false negative predictions .**\n",
    "\n",
    "**The cost of predicting a problem that doesn't exist will be just a message to the customer , but failure to predict a problem that already exists results in losing a customer .**"
   ]
  },
  {
   "cell_type": "code",
   "execution_count": 119,
   "id": "2594e6fa",
   "metadata": {},
   "outputs": [
    {
     "data": {
      "text/plain": [
       "0.9105841018884497"
      ]
     },
     "execution_count": 119,
     "metadata": {},
     "output_type": "execute_result"
    }
   ],
   "source": [
    "from sklearn.metrics import roc_auc_score\n",
    "roc_auc_score(y_test , y_test_pred)"
   ]
  },
  {
   "cell_type": "markdown",
   "id": "4a704e61",
   "metadata": {},
   "source": [
    "### Using ensemble methods\n",
    "\n",
    "Ensemble methods are a set of techniques in machine learning that combine the predictions of multiple models to improve overall performance and robustness. The main idea is that by aggregating the outputs of several models, the ensemble can often achieve better predictive accuracy and generalization than any individual model alone.\n",
    "\n",
    "`Types of Ensemble Methods`\n",
    "\n",
    "1 . `Bagging (Bootstrap Aggregating)` : training multiple instances of the same model on different subsets of the training data, which are created by sampling with replacement. The final prediction is typically made by averaging the predictions for regression or taking a majority vote for classification.\n",
    "\n",
    "**Random Forest** is a popular bagging method where multiple decision trees are trained on different bootstrap samples, and their predictions are aggregated.\n",
    "\n",
    "2 . `Boosting` :  sequentially training models, where each new model focuses on correcting the errors of the previous ones. The final prediction is a weighted average of the predictions from all models.\n",
    "\n",
    "3 . `Stacking` : combines multiple models (base learners) by training a meta-model to learn how to best combine their predictions. Base learners are trained on the training data, and their predictions are used as input features for the meta-model .\n",
    "\n",
    "A common stacking approach might involve training several different types of models (e.g., decision trees, support vector machines, and neural networks) and then using a logistic regression model to combine their outputs.\n",
    "\n",
    "4 . `Voting` : combines predictions from multiple models by aggregating their outputs. \n",
    "Example: Using a mix of models like logistic regression, decision trees, and k-nearest neighbors, and aggregating their predictions."
   ]
  },
  {
   "cell_type": "markdown",
   "id": "e3f1bb3b",
   "metadata": {},
   "source": [
    "### Random Forest"
   ]
  },
  {
   "cell_type": "code",
   "execution_count": 120,
   "id": "a5172fbe",
   "metadata": {},
   "outputs": [],
   "source": [
    "param_grid = {'n_estimators': [2*n+1 for n in range(20)],\n",
    "             'max_depth' : [2*n+1 for n in range(10) ],\n",
    "             'max_features':[\"auto\", \"sqrt\", \"log2\"],\n",
    "             }"
   ]
  },
  {
   "cell_type": "code",
   "execution_count": 121,
   "id": "be567226",
   "metadata": {},
   "outputs": [
    {
     "data": {
      "text/plain": [
       "GridSearchCV(estimator=RandomForestClassifier(),\n",
       "             param_grid={'max_depth': [1, 3, 5, 7, 9, 11, 13, 15, 17, 19],\n",
       "                         'max_features': ['auto', 'sqrt', 'log2'],\n",
       "                         'n_estimators': [1, 3, 5, 7, 9, 11, 13, 15, 17, 19, 21,\n",
       "                                          23, 25, 27, 29, 31, 33, 35, 37, 39]},\n",
       "             scoring='accuracy')"
      ]
     },
     "execution_count": 121,
     "metadata": {},
     "output_type": "execute_result"
    }
   ],
   "source": [
    "rf_model = RandomForestClassifier()\n",
    "grid_rf_model = GridSearchCV(estimator=rf_model, param_grid=param_grid,scoring='accuracy')\n",
    "grid_rf_model.fit(x_train, y_train , sample_weight=sample_weights)"
   ]
  },
  {
   "cell_type": "code",
   "execution_count": 122,
   "id": "b0602c05",
   "metadata": {},
   "outputs": [
    {
     "data": {
      "text/plain": [
       "0.9288242256513385"
      ]
     },
     "execution_count": 122,
     "metadata": {},
     "output_type": "execute_result"
    }
   ],
   "source": [
    "grid_rf_model.best_score_"
   ]
  },
  {
   "cell_type": "code",
   "execution_count": 123,
   "id": "ed00f6ee",
   "metadata": {},
   "outputs": [
    {
     "data": {
      "text/plain": [
       "RandomForestClassifier(max_depth=13, n_estimators=29)"
      ]
     },
     "execution_count": 123,
     "metadata": {},
     "output_type": "execute_result"
    }
   ],
   "source": [
    "grid_rf_model.best_estimator_"
   ]
  },
  {
   "cell_type": "code",
   "execution_count": 124,
   "id": "a11144a2",
   "metadata": {},
   "outputs": [
    {
     "data": {
      "text/html": [
       "<div>\n",
       "<style scoped>\n",
       "    .dataframe tbody tr th:only-of-type {\n",
       "        vertical-align: middle;\n",
       "    }\n",
       "\n",
       "    .dataframe tbody tr th {\n",
       "        vertical-align: top;\n",
       "    }\n",
       "\n",
       "    .dataframe thead th {\n",
       "        text-align: right;\n",
       "    }\n",
       "</style>\n",
       "<table border=\"1\" class=\"dataframe\">\n",
       "  <thead>\n",
       "    <tr style=\"text-align: right;\">\n",
       "      <th></th>\n",
       "      <th>train</th>\n",
       "      <th>test</th>\n",
       "    </tr>\n",
       "  </thead>\n",
       "  <tbody>\n",
       "    <tr>\n",
       "      <th>accuracy</th>\n",
       "      <td>0.974618</td>\n",
       "      <td>0.926189</td>\n",
       "    </tr>\n",
       "    <tr>\n",
       "      <th>precision</th>\n",
       "      <td>0.914724</td>\n",
       "      <td>0.835821</td>\n",
       "    </tr>\n",
       "    <tr>\n",
       "      <th>recall</th>\n",
       "      <td>0.997324</td>\n",
       "      <td>0.898396</td>\n",
       "    </tr>\n",
       "    <tr>\n",
       "      <th>f1</th>\n",
       "      <td>0.954240</td>\n",
       "      <td>0.865979</td>\n",
       "    </tr>\n",
       "  </tbody>\n",
       "</table>\n",
       "</div>"
      ],
      "text/plain": [
       "              train      test\n",
       "accuracy   0.974618  0.926189\n",
       "precision  0.914724  0.835821\n",
       "recall     0.997324  0.898396\n",
       "f1         0.954240  0.865979"
      ]
     },
     "execution_count": 124,
     "metadata": {},
     "output_type": "execute_result"
    }
   ],
   "source": [
    "best_RF = grid_rf_model.best_estimator_\n",
    "y_train_pred = best_RF.predict(x_train)\n",
    "y_test_pred = best_RF.predict(x_test)\n",
    "\n",
    "train_test_full_error = pd.concat([measure_error(y_train, y_train_pred, 'train'),\n",
    "                              measure_error(y_test, y_test_pred, 'test')],\n",
    "                              axis=1)\n",
    "\n",
    "train_test_full_error"
   ]
  },
  {
   "cell_type": "code",
   "execution_count": 125,
   "id": "4e85a053",
   "metadata": {},
   "outputs": [
    {
     "data": {
      "image/png": "[encoded data removed]",
      "text/plain": [
       "<Figure size 432x288 with 2 Axes>"
      ]
     },
     "metadata": {
      "needs_background": "light"
     },
     "output_type": "display_data"
    }
   ],
   "source": [
    "conf_matrix = confusion_matrix(y_test, y_test_pred)\n",
    "sns.heatmap(conf_matrix, annot=True, fmt='d', cmap='Blues', xticklabels=['0', '1'], yticklabels=['0', '1'])\n",
    "plt.xlabel('Predicted')\n",
    "plt.ylabel('True')\n",
    "plt.title('Confusion Matrix')\n",
    "plt.show()"
   ]
  },
  {
   "cell_type": "code",
   "execution_count": 126,
   "id": "e43a4e75",
   "metadata": {},
   "outputs": [
    {
     "data": {
      "text/plain": [
       "0.9173138029915523"
      ]
     },
     "execution_count": 126,
     "metadata": {},
     "output_type": "execute_result"
    }
   ],
   "source": [
    "roc_auc_score(y_test , y_test_pred)"
   ]
  },
  {
   "cell_type": "markdown",
   "id": "bc5558d2",
   "metadata": {},
   "source": [
    "### XGboost model"
   ]
  },
  {
   "cell_type": "code",
   "execution_count": 127,
   "id": "42a5d715",
   "metadata": {},
   "outputs": [
    {
     "data": {
      "text/plain": [
       "GridSearchCV(cv=3,\n",
       "             estimator=XGBClassifier(base_score=None, booster=None,\n",
       "                                     callbacks=None, colsample_bylevel=None,\n",
       "                                     colsample_bynode=None,\n",
       "                                     colsample_bytree=None,\n",
       "                                     early_stopping_rounds=None,\n",
       "                                     enable_categorical=False, eval_metric=None,\n",
       "                                     gamma=None, gpu_id=None, grow_policy=None,\n",
       "                                     importance_type=None,\n",
       "                                     interaction_constraints=None,\n",
       "                                     learning_rate=None, max_bin=None,\n",
       "                                     max_ca...e,\n",
       "                                     max_delta_step=None, max_depth=None,\n",
       "                                     max_leaves=None, min_child_weight=None,\n",
       "                                     missing=nan, monotone_constraints=None,\n",
       "                                     n_estimators=100, n_jobs=None,\n",
       "                                     num_parallel_tree=None, predictor=None,\n",
       "                                     random_state=None, reg_alpha=None,\n",
       "                                     reg_lambda=None, ...),\n",
       "             param_grid={'learning_rate': [0.01, 0.1, 0.2],\n",
       "                         'max_depth': [3, 5, 7],\n",
       "                         'n_estimators': [100, 125, 150, 175]},\n",
       "             scoring='accuracy')"
      ]
     },
     "execution_count": 127,
     "metadata": {},
     "output_type": "execute_result"
    }
   ],
   "source": [
    "xgb_model = XGBClassifier()\n",
    "xgb_params = {\n",
    "        'n_estimators':[100 , 125 , 150 , 175],          \n",
    "        'learning_rate':[0.01,.1,.2],         \n",
    "        'max_depth':[3,5,7]\n",
    "    }                  \n",
    "xgb_model_grid = GridSearchCV(xgb_model , xgb_params , cv=3 , scoring = 'accuracy')\n",
    "xgb_model_grid.fit(x_train, y_train , sample_weight=sample_weights)"
   ]
  },
  {
   "cell_type": "code",
   "execution_count": 128,
   "id": "e1fee25c",
   "metadata": {},
   "outputs": [
    {
     "data": {
      "text/plain": [
       "XGBClassifier(base_score=0.5, booster='gbtree', callbacks=None,\n",
       "              colsample_bylevel=1, colsample_bynode=1, colsample_bytree=1,\n",
       "              early_stopping_rounds=None, enable_categorical=False,\n",
       "              eval_metric=None, gamma=0, gpu_id=-1, grow_policy='depthwise',\n",
       "              importance_type=None, interaction_constraints='',\n",
       "              learning_rate=0.2, max_bin=256, max_cat_to_onehot=4,\n",
       "              max_delta_step=0, max_depth=5, max_leaves=0, min_child_weight=1,\n",
       "              missing=nan, monotone_constraints='()', n_estimators=100,\n",
       "              n_jobs=0, num_parallel_tree=1, predictor='auto', random_state=0,\n",
       "              reg_alpha=0, reg_lambda=1, ...)"
      ]
     },
     "execution_count": 128,
     "metadata": {},
     "output_type": "execute_result"
    }
   ],
   "source": [
    "best_XGB = xgb_model_grid.best_estimator_\n",
    "best_XGB"
   ]
  },
  {
   "cell_type": "code",
   "execution_count": 129,
   "id": "a7dfb524",
   "metadata": {},
   "outputs": [
    {
     "data": {
      "text/html": [
       "<div>\n",
       "<style scoped>\n",
       "    .dataframe tbody tr th:only-of-type {\n",
       "        vertical-align: middle;\n",
       "    }\n",
       "\n",
       "    .dataframe tbody tr th {\n",
       "        vertical-align: top;\n",
       "    }\n",
       "\n",
       "    .dataframe thead th {\n",
       "        text-align: right;\n",
       "    }\n",
       "</style>\n",
       "<table border=\"1\" class=\"dataframe\">\n",
       "  <thead>\n",
       "    <tr style=\"text-align: right;\">\n",
       "      <th></th>\n",
       "      <th>train</th>\n",
       "      <th>test</th>\n",
       "    </tr>\n",
       "  </thead>\n",
       "  <tbody>\n",
       "    <tr>\n",
       "      <th>accuracy</th>\n",
       "      <td>0.971424</td>\n",
       "      <td>0.931867</td>\n",
       "    </tr>\n",
       "    <tr>\n",
       "      <th>precision</th>\n",
       "      <td>0.905718</td>\n",
       "      <td>0.835749</td>\n",
       "    </tr>\n",
       "    <tr>\n",
       "      <th>recall</th>\n",
       "      <td>0.995987</td>\n",
       "      <td>0.925134</td>\n",
       "    </tr>\n",
       "    <tr>\n",
       "      <th>f1</th>\n",
       "      <td>0.948710</td>\n",
       "      <td>0.878173</td>\n",
       "    </tr>\n",
       "  </tbody>\n",
       "</table>\n",
       "</div>"
      ],
      "text/plain": [
       "              train      test\n",
       "accuracy   0.971424  0.931867\n",
       "precision  0.905718  0.835749\n",
       "recall     0.995987  0.925134\n",
       "f1         0.948710  0.878173"
      ]
     },
     "execution_count": 129,
     "metadata": {},
     "output_type": "execute_result"
    }
   ],
   "source": [
    "y_train_pred = best_XGB.predict(x_train)\n",
    "y_test_pred = best_XGB.predict(x_test)\n",
    "\n",
    "train_test_full_error = pd.concat([measure_error(y_train, y_train_pred, 'train'),\n",
    "                              measure_error(y_test, y_test_pred, 'test')],\n",
    "                              axis=1)\n",
    "\n",
    "train_test_full_error"
   ]
  },
  {
   "cell_type": "code",
   "execution_count": 130,
   "id": "d50cbfb7",
   "metadata": {},
   "outputs": [
    {
     "data": {
      "image/png": "[encoded data removed]",
      "text/plain": [
       "<Figure size 432x288 with 2 Axes>"
      ]
     },
     "metadata": {
      "needs_background": "light"
     },
     "output_type": "display_data"
    }
   ],
   "source": [
    "conf_matrix = confusion_matrix(y_test, y_test_pred)\n",
    "sns.heatmap(conf_matrix, annot=True, fmt='d', cmap='Blues', xticklabels=['0', '1'], yticklabels=['0', '1'])\n",
    "plt.xlabel('Predicted')\n",
    "plt.ylabel('True')\n",
    "plt.title('Confusion Matrix')\n",
    "plt.show()"
   ]
  },
  {
   "cell_type": "code",
   "execution_count": 131,
   "id": "767dc00b",
   "metadata": {},
   "outputs": [
    {
     "data": {
      "text/plain": [
       "0.9297166033738925"
      ]
     },
     "execution_count": 131,
     "metadata": {},
     "output_type": "execute_result"
    }
   ],
   "source": [
    "roc_auc_score(y_test , y_test_pred)"
   ]
  },
  {
   "cell_type": "markdown",
   "id": "21b2b090",
   "metadata": {},
   "source": [
    "### Stacking"
   ]
  },
  {
   "cell_type": "code",
   "execution_count": 132,
   "id": "57f6d899",
   "metadata": {},
   "outputs": [
    {
     "data": {
      "text/plain": [
       "StackingClassifier(cv=3,\n",
       "                   estimators=[('dt', DecisionTreeClassifier(max_depth=12)),\n",
       "                               ('rf',\n",
       "                                RandomForestClassifier(max_depth=13,\n",
       "                                                       n_estimators=29)),\n",
       "                               ('xgb',\n",
       "                                XGBClassifier(base_score=0.5, booster='gbtree',\n",
       "                                              callbacks=None,\n",
       "                                              colsample_bylevel=1,\n",
       "                                              colsample_bynode=1,\n",
       "                                              colsample_bytree=1,\n",
       "                                              early_stopping_rounds=None,\n",
       "                                              enable_categorical=False,\n",
       "                                              eval_metric=None, gamma=0,\n",
       "                                              gpu_id=...\n",
       "                                              interaction_constraints='',\n",
       "                                              learning_rate=0.2, max_bin=256,\n",
       "                                              max_cat_to_onehot=4,\n",
       "                                              max_delta_step=0, max_depth=5,\n",
       "                                              max_leaves=0, min_child_weight=1,\n",
       "                                              missing=nan,\n",
       "                                              monotone_constraints='()',\n",
       "                                              n_estimators=100, n_jobs=0,\n",
       "                                              num_parallel_tree=1,\n",
       "                                              predictor='auto', random_state=0,\n",
       "                                              reg_alpha=0, reg_lambda=1, ...))],\n",
       "                   final_estimator=LogisticRegression(C=1, penalty='l1',\n",
       "                                                      solver='liblinear'))"
      ]
     },
     "execution_count": 132,
     "metadata": {},
     "output_type": "execute_result"
    }
   ],
   "source": [
    "base_models = [\n",
    "    ('dt' , best_DT),\n",
    "    ('rf' , best_RF),\n",
    "    ('xgb' , best_XGB)\n",
    "]\n",
    "meta_model = best_LR\n",
    "\n",
    "stacking_model = StackingClassifier(estimators = base_models , final_estimator = meta_model , cv = 3)\n",
    "stacking_model.fit(x_train , y_train , sample_weight=sample_weights)"
   ]
  },
  {
   "cell_type": "code",
   "execution_count": 133,
   "id": "78647418",
   "metadata": {},
   "outputs": [
    {
     "data": {
      "text/html": [
       "<div>\n",
       "<style scoped>\n",
       "    .dataframe tbody tr th:only-of-type {\n",
       "        vertical-align: middle;\n",
       "    }\n",
       "\n",
       "    .dataframe tbody tr th {\n",
       "        vertical-align: top;\n",
       "    }\n",
       "\n",
       "    .dataframe thead th {\n",
       "        text-align: right;\n",
       "    }\n",
       "</style>\n",
       "<table border=\"1\" class=\"dataframe\">\n",
       "  <thead>\n",
       "    <tr style=\"text-align: right;\">\n",
       "      <th></th>\n",
       "      <th>train</th>\n",
       "      <th>test</th>\n",
       "    </tr>\n",
       "  </thead>\n",
       "  <tbody>\n",
       "    <tr>\n",
       "      <th>accuracy</th>\n",
       "      <td>0.967696</td>\n",
       "      <td>0.926189</td>\n",
       "    </tr>\n",
       "    <tr>\n",
       "      <th>precision</th>\n",
       "      <td>0.891473</td>\n",
       "      <td>0.815421</td>\n",
       "    </tr>\n",
       "    <tr>\n",
       "      <th>recall</th>\n",
       "      <td>1.000000</td>\n",
       "      <td>0.933155</td>\n",
       "    </tr>\n",
       "    <tr>\n",
       "      <th>f1</th>\n",
       "      <td>0.942623</td>\n",
       "      <td>0.870324</td>\n",
       "    </tr>\n",
       "  </tbody>\n",
       "</table>\n",
       "</div>"
      ],
      "text/plain": [
       "              train      test\n",
       "accuracy   0.967696  0.926189\n",
       "precision  0.891473  0.815421\n",
       "recall     1.000000  0.933155\n",
       "f1         0.942623  0.870324"
      ]
     },
     "execution_count": 133,
     "metadata": {},
     "output_type": "execute_result"
    }
   ],
   "source": [
    "y_train_pred = stacking_model.predict(x_train)\n",
    "y_test_pred = stacking_model.predict(x_test)\n",
    "\n",
    "train_test_full_error = pd.concat([measure_error(y_train, y_train_pred, 'train'),\n",
    "                              measure_error(y_test, y_test_pred, 'test')],\n",
    "                              axis=1)\n",
    "\n",
    "train_test_full_error"
   ]
  },
  {
   "cell_type": "code",
   "execution_count": 134,
   "id": "41a80901",
   "metadata": {},
   "outputs": [
    {
     "data": {
      "image/png": "[encoded data removed]",
      "text/plain": [
       "<Figure size 432x288 with 2 Axes>"
      ]
     },
     "metadata": {
      "needs_background": "light"
     },
     "output_type": "display_data"
    }
   ],
   "source": [
    "conf_matrix = confusion_matrix(y_test, y_test_pred)\n",
    "sns.heatmap(conf_matrix, annot=True, fmt='d', cmap='Blues', xticklabels=['0', '1'], yticklabels=['0', '1'])\n",
    "plt.xlabel('Predicted')\n",
    "plt.ylabel('True')\n",
    "plt.title('Confusion Matrix')\n",
    "plt.show()"
   ]
  },
  {
   "cell_type": "code",
   "execution_count": 135,
   "id": "58e99506",
   "metadata": {},
   "outputs": [
    {
     "data": {
      "text/plain": [
       "0.9284132888992224"
      ]
     },
     "execution_count": 135,
     "metadata": {},
     "output_type": "execute_result"
    }
   ],
   "source": [
    "roc_auc_score(y_test , y_test_pred)"
   ]
  },
  {
   "cell_type": "markdown",
   "id": "9db12891",
   "metadata": {},
   "source": [
    "### Voting"
   ]
  },
  {
   "cell_type": "code",
   "execution_count": 136,
   "id": "0440fefb",
   "metadata": {},
   "outputs": [
    {
     "data": {
      "text/plain": [
       "VotingClassifier(estimators=[('dt', DecisionTreeClassifier(max_depth=12)),\n",
       "                             ('rf',\n",
       "                              RandomForestClassifier(max_depth=13,\n",
       "                                                     n_estimators=29)),\n",
       "                             ('xgb',\n",
       "                              XGBClassifier(base_score=0.5, booster='gbtree',\n",
       "                                            callbacks=None, colsample_bylevel=1,\n",
       "                                            colsample_bynode=1,\n",
       "                                            colsample_bytree=1,\n",
       "                                            early_stopping_rounds=None,\n",
       "                                            enable_categorical=False,\n",
       "                                            eval_metric=None, gamma=0,\n",
       "                                            gpu_id=-1, grow...\n",
       "                                            learning_rate=0.2, max_bin=256,\n",
       "                                            max_cat_to_onehot=4,\n",
       "                                            max_delta_step=0, max_depth=5,\n",
       "                                            max_leaves=0, min_child_weight=1,\n",
       "                                            missing=nan,\n",
       "                                            monotone_constraints='()',\n",
       "                                            n_estimators=100, n_jobs=0,\n",
       "                                            num_parallel_tree=1,\n",
       "                                            predictor='auto', random_state=0,\n",
       "                                            reg_alpha=0, reg_lambda=1, ...)),\n",
       "                             ('lr',\n",
       "                              LogisticRegression(C=1, penalty='l1',\n",
       "                                                 solver='liblinear')),\n",
       "                             ('svm', SVC(probability=True))])"
      ]
     },
     "execution_count": 136,
     "metadata": {},
     "output_type": "execute_result"
    }
   ],
   "source": [
    "models = [\n",
    "    ('dt' , best_DT),\n",
    "    ('rf' , best_RF),\n",
    "    ('xgb' , best_XGB),\n",
    "    ('lr' , best_LR),\n",
    "    ('svm' , SVC(probability=True) )\n",
    "]\n",
    "\n",
    "hard_voting_classifier = VotingClassifier(estimators = models , voting = 'hard')\n",
    "hard_voting_classifier.fit(x_train , y_train, sample_weight=sample_weights)"
   ]
  },
  {
   "cell_type": "code",
   "execution_count": 137,
   "id": "58c49afb",
   "metadata": {},
   "outputs": [
    {
     "data": {
      "text/html": [
       "<div>\n",
       "<style scoped>\n",
       "    .dataframe tbody tr th:only-of-type {\n",
       "        vertical-align: middle;\n",
       "    }\n",
       "\n",
       "    .dataframe tbody tr th {\n",
       "        vertical-align: top;\n",
       "    }\n",
       "\n",
       "    .dataframe thead th {\n",
       "        text-align: right;\n",
       "    }\n",
       "</style>\n",
       "<table border=\"1\" class=\"dataframe\">\n",
       "  <thead>\n",
       "    <tr style=\"text-align: right;\">\n",
       "      <th></th>\n",
       "      <th>train</th>\n",
       "      <th>test</th>\n",
       "    </tr>\n",
       "  </thead>\n",
       "  <tbody>\n",
       "    <tr>\n",
       "      <th>accuracy</th>\n",
       "      <td>0.965921</td>\n",
       "      <td>0.931867</td>\n",
       "    </tr>\n",
       "    <tr>\n",
       "      <th>precision</th>\n",
       "      <td>0.889886</td>\n",
       "      <td>0.832536</td>\n",
       "    </tr>\n",
       "    <tr>\n",
       "      <th>recall</th>\n",
       "      <td>0.994649</td>\n",
       "      <td>0.930481</td>\n",
       "    </tr>\n",
       "    <tr>\n",
       "      <th>f1</th>\n",
       "      <td>0.939356</td>\n",
       "      <td>0.878788</td>\n",
       "    </tr>\n",
       "  </tbody>\n",
       "</table>\n",
       "</div>"
      ],
      "text/plain": [
       "              train      test\n",
       "accuracy   0.965921  0.931867\n",
       "precision  0.889886  0.832536\n",
       "recall     0.994649  0.930481\n",
       "f1         0.939356  0.878788"
      ]
     },
     "execution_count": 137,
     "metadata": {},
     "output_type": "execute_result"
    }
   ],
   "source": [
    "y_train_pred = hard_voting_classifier.predict(x_train)\n",
    "y_test_pred = hard_voting_classifier.predict(x_test)\n",
    "\n",
    "train_test_full_error = pd.concat([measure_error(y_train, y_train_pred, 'train'),\n",
    "                              measure_error(y_test, y_test_pred, 'test')],\n",
    "                              axis=1)\n",
    "\n",
    "train_test_full_error"
   ]
  },
  {
   "cell_type": "code",
   "execution_count": 138,
   "id": "c558496e",
   "metadata": {},
   "outputs": [
    {
     "data": {
      "image/png": "[encoded data removed]",
      "text/plain": [
       "<Figure size 432x288 with 2 Axes>"
      ]
     },
     "metadata": {
      "needs_background": "light"
     },
     "output_type": "display_data"
    }
   ],
   "source": [
    "conf_matrix = confusion_matrix(y_test, y_test_pred)\n",
    "sns.heatmap(conf_matrix, annot=True, fmt='d', cmap='Blues', xticklabels=['0', '1'], yticklabels=['0', '1'])\n",
    "plt.xlabel('Predicted')\n",
    "plt.ylabel('True')\n",
    "plt.title('Confusion Matrix')\n",
    "plt.show()"
   ]
  },
  {
   "cell_type": "code",
   "execution_count": 139,
   "id": "f9008cc5",
   "metadata": {},
   "outputs": [
    {
     "data": {
      "text/plain": [
       "0.931424216590457"
      ]
     },
     "execution_count": 139,
     "metadata": {},
     "output_type": "execute_result"
    }
   ],
   "source": [
    "roc_auc_score(y_test , y_test_pred)"
   ]
  },
  {
   "cell_type": "code",
   "execution_count": 140,
   "id": "31e27219",
   "metadata": {},
   "outputs": [
    {
     "data": {
      "text/plain": [
       "VotingClassifier(estimators=[('dt', DecisionTreeClassifier(max_depth=12)),\n",
       "                             ('rf',\n",
       "                              RandomForestClassifier(max_depth=13,\n",
       "                                                     n_estimators=29)),\n",
       "                             ('xgb',\n",
       "                              XGBClassifier(base_score=0.5, booster='gbtree',\n",
       "                                            callbacks=None, colsample_bylevel=1,\n",
       "                                            colsample_bynode=1,\n",
       "                                            colsample_bytree=1,\n",
       "                                            early_stopping_rounds=None,\n",
       "                                            enable_categorical=False,\n",
       "                                            eval_metric=None, gamma=0,\n",
       "                                            gpu_id=-1, grow...\n",
       "                                            learning_rate=0.2, max_bin=256,\n",
       "                                            max_cat_to_onehot=4,\n",
       "                                            max_delta_step=0, max_depth=5,\n",
       "                                            max_leaves=0, min_child_weight=1,\n",
       "                                            missing=nan,\n",
       "                                            monotone_constraints='()',\n",
       "                                            n_estimators=100, n_jobs=0,\n",
       "                                            num_parallel_tree=1,\n",
       "                                            predictor='auto', random_state=0,\n",
       "                                            reg_alpha=0, reg_lambda=1, ...)),\n",
       "                             ('lr',\n",
       "                              LogisticRegression(C=1, penalty='l1',\n",
       "                                                 solver='liblinear')),\n",
       "                             ('svm', SVC(probability=True))],\n",
       "                 voting='soft')"
      ]
     },
     "execution_count": 140,
     "metadata": {},
     "output_type": "execute_result"
    }
   ],
   "source": [
    "soft_voting_classifier = VotingClassifier(estimators = models , voting = 'soft')\n",
    "soft_voting_classifier.fit(x_train , y_train, sample_weight=sample_weights)"
   ]
  },
  {
   "cell_type": "code",
   "execution_count": 141,
   "id": "d636c387",
   "metadata": {},
   "outputs": [
    {
     "data": {
      "text/html": [
       "<div>\n",
       "<style scoped>\n",
       "    .dataframe tbody tr th:only-of-type {\n",
       "        vertical-align: middle;\n",
       "    }\n",
       "\n",
       "    .dataframe tbody tr th {\n",
       "        vertical-align: top;\n",
       "    }\n",
       "\n",
       "    .dataframe thead th {\n",
       "        text-align: right;\n",
       "    }\n",
       "</style>\n",
       "<table border=\"1\" class=\"dataframe\">\n",
       "  <thead>\n",
       "    <tr style=\"text-align: right;\">\n",
       "      <th></th>\n",
       "      <th>train</th>\n",
       "      <th>test</th>\n",
       "    </tr>\n",
       "  </thead>\n",
       "  <tbody>\n",
       "    <tr>\n",
       "      <th>accuracy</th>\n",
       "      <td>0.971424</td>\n",
       "      <td>0.926899</td>\n",
       "    </tr>\n",
       "    <tr>\n",
       "      <th>precision</th>\n",
       "      <td>0.908701</td>\n",
       "      <td>0.839599</td>\n",
       "    </tr>\n",
       "    <tr>\n",
       "      <th>recall</th>\n",
       "      <td>0.991973</td>\n",
       "      <td>0.895722</td>\n",
       "    </tr>\n",
       "    <tr>\n",
       "      <th>f1</th>\n",
       "      <td>0.948513</td>\n",
       "      <td>0.866753</td>\n",
       "    </tr>\n",
       "  </tbody>\n",
       "</table>\n",
       "</div>"
      ],
      "text/plain": [
       "              train      test\n",
       "accuracy   0.971424  0.926899\n",
       "precision  0.908701  0.839599\n",
       "recall     0.991973  0.895722\n",
       "f1         0.948513  0.866753"
      ]
     },
     "execution_count": 141,
     "metadata": {},
     "output_type": "execute_result"
    }
   ],
   "source": [
    "y_train_pred = soft_voting_classifier.predict(x_train)\n",
    "y_test_pred = soft_voting_classifier.predict(x_test)\n",
    "\n",
    "train_test_full_error = pd.concat([measure_error(y_train, y_train_pred, 'train'),\n",
    "                              measure_error(y_test, y_test_pred, 'test')],\n",
    "                              axis=1)\n",
    "\n",
    "train_test_full_error"
   ]
  },
  {
   "cell_type": "code",
   "execution_count": 142,
   "id": "bbc5b175",
   "metadata": {},
   "outputs": [
    {
     "data": {
      "image/png": "[encoded data removed]",
      "text/plain": [
       "<Figure size 432x288 with 2 Axes>"
      ]
     },
     "metadata": {
      "needs_background": "light"
     },
     "output_type": "display_data"
    }
   ],
   "source": [
    "conf_matrix = confusion_matrix(y_test, y_test_pred)\n",
    "sns.heatmap(conf_matrix, annot=True, fmt='d', cmap='Blues', xticklabels=['0', '1'], yticklabels=['0', '1'])\n",
    "plt.xlabel('Predicted')\n",
    "plt.ylabel('True')\n",
    "plt.title('Confusion Matrix')\n",
    "plt.show()"
   ]
  },
  {
   "cell_type": "code",
   "execution_count": 143,
   "id": "23ec2512",
   "metadata": {},
   "outputs": [
    {
     "data": {
      "text/plain": [
       "0.9169430881707097"
      ]
     },
     "execution_count": 143,
     "metadata": {},
     "output_type": "execute_result"
    }
   ],
   "source": [
    "roc_auc_score(y_test , y_test_pred)"
   ]
  }
 ],
 "metadata": {
  "kernelspec": {
   "display_name": "Python 3 (ipykernel)",
   "language": "python",
   "name": "python3"
  },
  "language_info": {
   "codemirror_mode": {
    "name": "ipython",
    "version": 3
   },
   "file_extension": ".py",
   "mimetype": "text/x-python",
   "name": "python",
   "nbconvert_exporter": "python",
   "pygments_lexer": "ipython3",
   "version": "3.7.13"
  }
 },
 "nbformat": 4,
 "nbformat_minor": 5
}
